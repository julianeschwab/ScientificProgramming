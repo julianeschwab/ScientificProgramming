{
 "cells": [
  {
   "cell_type": "markdown",
   "id": "5505e7af",
   "metadata": {},
   "source": [
    "## Finishing the basics: more on functions, dictionaries, and files\n",
    "\n",
    "The concepts introduced in previous sessions have additional functionalities worth introducing. In this session, we will therefore look at advanced uses of functions, loops, and file I/O, which allow you to code more efficiently. "
   ]
  },
  {
   "cell_type": "markdown",
   "id": "6810b1c7",
   "metadata": {},
   "source": [
    "### Functions\n",
    "\n",
    "**Recap**:  \n",
    "\n",
    "Functions are **reusable blocks of code that perform an action, like computing a value, on the basis of potentially changing parameters**. Functions are defined by a **def statement**, which specifies the name and arguments of the function. The indented code inside of the function block is the **body of the function**. Functions are executed by calling them; **function calls** use the function's name followed by parentheses, possibly containing a number of arguments within the parentheses. "
   ]
  },
  {
   "cell_type": "code",
   "execution_count": null,
   "id": "78e28319",
   "metadata": {},
   "outputs": [],
   "source": [
    "def sort_alphabetically(file):\n",
    "    words = []\n",
    "    for line in file.read():\n",
    "        words = words.append(line.split())\n",
    "    words = words.sort()    \n",
    "    return words\n",
    "\n",
    "unsorted_file = open(\"guide.txt\", \"r\")\n",
    "\n",
    "sorted_file = sort_alphabetically(unsorted_file)"
   ]
  },
  {
   "cell_type": "markdown",
   "id": "8a691fbf",
   "metadata": {},
   "source": [
    "**Function calls are expressions**\n",
    "\n",
    "Function calls evaluate to objects (see session 02 on expressions vs. statements). For instance, calling the function defined above evaluates to a *list* object. We can modify its type directly:"
   ]
  },
  {
   "cell_type": "code",
   "execution_count": null,
   "id": "6643a8b7",
   "metadata": {},
   "outputs": [],
   "source": [
    "tuple(sort_alphabetically(unsorted_file))"
   ]
  },
  {
   "cell_type": "markdown",
   "id": "f727fb5f",
   "metadata": {},
   "source": [
    "Note also that **if you are only using the object once it is unnecessary to assign it to a variable**: "
   ]
  },
  {
   "cell_type": "code",
   "execution_count": null,
   "id": "c0384c06",
   "metadata": {},
   "outputs": [],
   "source": [
    "#inefficient code:\n",
    "sorted_file = sort_alphabetically(unsorted_file)\n",
    "print(sorted_file)\n",
    "\n",
    "#more efficiently:\n",
    "print(sort_alphabetically(unsorted_file))"
   ]
  },
  {
   "cell_type": "markdown",
   "id": "e5a2cd9f",
   "metadata": {},
   "source": [
    "Finally, some functions and methods don't return anything (= return *None*), but still modify the objects passed as their arguments:"
   ]
  },
  {
   "cell_type": "markdown",
   "id": "a51983c2",
   "metadata": {},
   "source": [
    "include example (\"sort\")"
   ]
  },
  {
   "cell_type": "markdown",
   "id": "f2cd328c",
   "metadata": {},
   "source": [
    "**Functions can call functions**"
   ]
  },
  {
   "cell_type": "code",
   "execution_count": null,
   "id": "b97cf8b8",
   "metadata": {},
   "outputs": [],
   "source": [
    "def count_word_occurence(file):\n",
    "    word_counter = tuple()\n",
    "    sorted_list = sort_alphabetically(file)\n",
    "    ###"
   ]
  },
  {
   "cell_type": "markdown",
   "id": "a6c36d06",
   "metadata": {},
   "source": [
    "**The call stack**"
   ]
  },
  {
   "cell_type": "code",
   "execution_count": null,
   "id": "05f41571",
   "metadata": {},
   "outputs": [],
   "source": []
  }
 ],
 "metadata": {
  "kernelspec": {
   "display_name": "Python 3 (ipykernel)",
   "language": "python",
   "name": "python3"
  },
  "language_info": {
   "codemirror_mode": {
    "name": "ipython",
    "version": 3
   },
   "file_extension": ".py",
   "mimetype": "text/x-python",
   "name": "python",
   "nbconvert_exporter": "python",
   "pygments_lexer": "ipython3",
   "version": "3.9.12"
  }
 },
 "nbformat": 4,
 "nbformat_minor": 5
}
