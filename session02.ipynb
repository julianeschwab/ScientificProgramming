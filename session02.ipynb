{
 "cells": [
  {
   "cell_type": "markdown",
   "id": "a58a22ce",
   "metadata": {},
   "source": [
    "# Data types and statements\n",
    "\n",
    "In this session, you will learn about the different **data types** Python can handle, about **storing data in variables** and modifying their contents through **assignment operators**, and about some of the essential basic **functions** in Python. At the end of this session, you should be able to write simple programs that assign, manipulate and return different types of data.  \n",
    "\n",
    "## Data types\n",
    "\n",
    "When speaking of data types, we are refering to different **categories** that a value can belong to. Values always belong to exactly one data type, that is, an if a value is of the *integer* type, for instance, it cannot simultaneously be of the *float* type. Integer values can be transformed into float values, however, as we will see below. \n",
    "\n",
    "### Boolean\n",
    "\n",
    "The Boolean data type only encodes the logical values *True* and *False*, encodable in bytes as 1 and 0, respectively. The Boolean data type is highly useful in programming. Many operators and functions return Boolean values to indicate whether a statement fulfills a certain condition (e.g., is x bigger than y?) "
   ]
  },
  {
   "cell_type": "code",
   "execution_count": 9,
   "id": "1cdf9162",
   "metadata": {},
   "outputs": [
    {
     "name": "stdout",
     "output_type": "stream",
     "text": [
      "<class 'bool'>\n"
     ]
    }
   ],
   "source": [
    "a = False\n",
    "print(type(a))"
   ]
  },
  {
   "cell_type": "code",
   "execution_count": 11,
   "id": "8b210119",
   "metadata": {},
   "outputs": [
    {
     "data": {
      "text/plain": [
       "True"
      ]
     },
     "execution_count": 11,
     "metadata": {},
     "output_type": "execute_result"
    }
   ],
   "source": [
    "3 > 2 #the 'bigger than' operator is an example for an operator return a Boolean value"
   ]
  },
  {
   "cell_type": "markdown",
   "id": "6151e6f9",
   "metadata": {},
   "source": [
    "### Numbers \n",
    "\n",
    "Values that are numbers can belong to three distinct categories: *integers*, *floating-point numbers*, or *complex* numbers.\n",
    "\n",
    "#### Integer\n",
    "\n",
    "Integer values are **whole numbers**, e.g. -300, 0, 300.  \n",
    "\n",
    "Integer values can be stored in bits. In a 32-bit encoding, integers up to the size of 2.147.483.648 can be respresented.  \n",
    "\n",
    "Let's take a look at binary encodings of integers in a 16-bit system:\n",
    "\n",
    "| decimal | 16-bit binary| | | | | | | | | | | | | | | |    \n",
    "| ------ | ------ | ------ |  ------ |------ |------ |------ |------ |------ |------ |------ |------ |------ |------ |------ |------ |------ |  \n",
    "| | 32768 | 16384 | 8192 | 4096 | 2048 | 1024 | 512 | 256 | 128 | 64 | 32 | 16 | 8 | 4 | 2 | 1|\n",
    "| 0 | 0|0|0|0| 0|0|0|0| 0|0|0|0| 0|0|0|0|  \n",
    "| 10 | 0|0|0|0 |0|0|0|0 |0|0|0|0 |1|0|1|0 |  \n",
    "| 150 | 0|0|0|0| 0|0|0|0| 1|0|0|1| 0|1|1|0| \n",
    "| 32000 | 0|1|1|1| 1|1|0|1| 0|0|0|0| 0|0|0|0| "
   ]
  },
  {
   "cell_type": "code",
   "execution_count": 15,
   "id": "ce7f773b",
   "metadata": {},
   "outputs": [
    {
     "name": "stdout",
     "output_type": "stream",
     "text": [
      "<class 'int'>\n"
     ]
    }
   ],
   "source": [
    "b = 300\n",
    "\n",
    "print(type(b))"
   ]
  },
  {
   "cell_type": "markdown",
   "id": "2ccf5365",
   "metadata": {},
   "source": [
    "#### Float\n",
    "\n",
    "Floating-point numbers \n",
    "\n",
    "#### Complex\n",
    "\n",
    "\n",
    "Summary table\n",
    "\n",
    "### Strings\n",
    "\n",
    "### Sequences\n",
    "\n",
    "#### List\n",
    "\n",
    "#### Tuple\n",
    "\n",
    "#### Range\n",
    "\n",
    "### Mappings\n",
    "\n",
    "#### Dictionary\n",
    "\n",
    "#### Set\n",
    "\n",
    "There are other data types..."
   ]
  },
  {
   "cell_type": "code",
   "execution_count": null,
   "id": "c278bc65",
   "metadata": {},
   "outputs": [],
   "source": [
    "#Why does the following not work? \n",
    "a = false\n",
    "\n",
    "#What will be the type of this variable?\n",
    "a = \"false\""
   ]
  },
  {
   "cell_type": "markdown",
   "id": "6fb45f16",
   "metadata": {},
   "source": [
    "## Variables and assignments\n",
    "\n",
    "### Operations\n",
    " Homework: find out which operations work on which data types and to what results (e.g. using modulo on a boolean and so on....)\n",
    "\n",
    "## Comments\n",
    "\n",
    "## Simple functions"
   ]
  }
 ],
 "metadata": {
  "kernelspec": {
   "display_name": "Python 3 (ipykernel)",
   "language": "python",
   "name": "python3"
  },
  "language_info": {
   "codemirror_mode": {
    "name": "ipython",
    "version": 3
   },
   "file_extension": ".py",
   "mimetype": "text/x-python",
   "name": "python",
   "nbconvert_exporter": "python",
   "pygments_lexer": "ipython3",
   "version": "3.9.12"
  }
 },
 "nbformat": 4,
 "nbformat_minor": 5
}
