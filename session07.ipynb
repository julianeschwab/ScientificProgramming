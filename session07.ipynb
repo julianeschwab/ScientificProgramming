{
 "cells": [
  {
   "cell_type": "markdown",
   "id": "c1000e3f",
   "metadata": {},
   "source": [
    "## For efficiency's sake: structured programs, packages, regular expressions \n",
    "\n",
    "Efficiency is key. Therefore, in this session, you will learn more about advanced aspects of efficient programming. We have already discussed how to improve code efficiency and maintainability in small programs. Sooner or later, however, additional questions may emerge: How should you **distribute code over a main program and importable modules**? Where can time and effort be saved by relying already available **modules** and **packages**? Can **repeating patterns** in the task at hand be detected and exploited for further automization? \n",
    "\n",
    "### Structured programs\n",
    "Python code (in .py files) can be used in two ways:\n",
    "- as a standalone program (e.g., the code file that you run from within Spyder)\n",
    "- as a module that is imported and used from inside another program\n",
    "\n",
    "**Recap**: Any .py file can be loaded as a module. As such, modules allow us (a) to distribute code across multiple files (which is convenient for bigger coding projects). Modules are loaded with an *import* statement. \n",
    "\n",
    "**Larger projects should make use of the distinction between standalone programs and modules.**\n",
    "- package the main functionality in different Python files\n",
    "- import these files as modules from a main file where the execution code resides\n",
    "- this main code should only be executed when the code is run as a standalone program"
   ]
  },
  {
   "cell_type": "markdown",
   "id": "b2eb41f2",
   "metadata": {},
   "source": [
    "#### The *main* block\n",
    "\n",
    "Upon importing a module, **all statements in the imported module are executed**. This may be fine if the module is explicitly design with a singular intended function as module imported to other programs. But **sometimes you may want to be able to use a script as both a module and an executable standalone program in and of itself**. This is where the *main* block comes in handy.\n",
    "\n",
    "**Why would you want this functionality?**\n",
    "- Your code's **main function may be for use as module**, but you still want to include a script mode where it runs some **unit tests or a demo**.\n",
    "- Your code's **main function may be for use as standalone program**, but you still want to **make some of its functionalities available to other programs**, without needing to create a new .py file.\n",
    "- Finally, your code may be for **use as standalone program (by you)**, but may have some unit tests and the **testing framework (by your teachers)** works by importing .py files like your script and running special test functions. This is the case for your homework exercises."
   ]
  },
  {
   "cell_type": "code",
   "execution_count": 1,
   "id": "11de510b",
   "metadata": {},
   "outputs": [],
   "source": [
    "#Example from homework exercise 01\n",
    "def pig_latin_name(name):\n",
    "    \"\"\"\n",
    "    Transform a name to the Pig Latin variant (paying attention to capital letters).\n",
    "    \"\"\"\n",
    "    pass\n",
    "\n",
    "\n",
    "# paste your test code here (will not be tested)\n",
    "if __name__ == '__main__':\n",
    "    pass"
   ]
  },
  {
   "cell_type": "markdown",
   "id": "d4bac7ec",
   "metadata": {},
   "source": [
    "In your homework exercises, **you can test your own code in the main block of your script**. This part of the code is **only exectued when the file runs as standalone program**. If it is instead imported as module (e.g., to our testing scripts), execution of the module's main block is skipped. \n",
    "\n",
    "**But how does this work, exactly?**"
   ]
  },
  {
   "cell_type": "markdown",
   "id": "5abd5fce",
   "metadata": {},
   "source": [
    "Upon initializing a script, the Python interpreter will...\n",
    "1. read the source files and **assign certain special variable names**\n",
    "2. execute all code\n",
    "\n",
    "Special variables are preceded and followed by \\_\\_ . Here, we care in particular about the **\\_\\_name\\__** variable. \n",
    "\n",
    "If you are **running a source file as the main program**, the interpreter will assign the hard-coded string \"\\_\\_main\\_\\_\" to the \\_\\_name\\_\\_ variable. It's as if the interpreter inserts this at the top of your code (you don't actually have to add this to your code):\n",
    "\n",
    "    __name__ = \"__main__\" \n",
    "    \n",
    "If you want to convince yourself of this, try and print out the variable's value on your next homework exercise:"
   ]
  },
  {
   "cell_type": "code",
   "execution_count": 4,
   "id": "16bd603a",
   "metadata": {},
   "outputs": [
    {
     "name": "stdout",
     "output_type": "stream",
     "text": [
      "__main__\n"
     ]
    }
   ],
   "source": [
    "print (__name__)"
   ]
  },
  {
   "cell_type": "markdown",
   "id": "e91ac347",
   "metadata": {},
   "source": [
    "If you are **importing a source file as module to another program**, the interpreter will search for the respective .py file and will assign the name from the import statement as value of its \\_\\_name\\_\\_ variable.\n",
    "\n",
    "For instance, if we are importing the module *math*, it's as if the interpreter inserts this at the top of the *math.py* file:\n",
    "\n",
    "    __name__ = \"math\"\n",
    "    \n",
    "Note that the name of your main program remains \\_\\_main\\_\\_:"
   ]
  },
  {
   "cell_type": "code",
   "execution_count": 9,
   "id": "940d28db",
   "metadata": {},
   "outputs": [
    {
     "name": "stdout",
     "output_type": "stream",
     "text": [
      "the live script's name remains:  __main__\n",
      "the imported module's name is: math\n"
     ]
    }
   ],
   "source": [
    "import math\n",
    "print(\"the live script's name remains: \",__name__)\n",
    "print(\"the imported module's name is:\",math.__name__)"
   ]
  },
  {
   "cell_type": "markdown",
   "id": "95b6feae",
   "metadata": {},
   "source": [
    "Coming back to the question as to **how this is useful**, note that we can **conditionalize the execution of certain statements on whether the file is executed as main file or as module**. Code that is embedded under the *if* statement will only be executed if the \\_\\_name\\_\\_ variable is assigned the \"\\_\\_main\\_\\_\" value at runtime:"
   ]
  },
  {
   "cell_type": "code",
   "execution_count": 11,
   "id": "0a73fa08",
   "metadata": {},
   "outputs": [
    {
     "name": "stdout",
     "output_type": "stream",
     "text": [
      "This is now running as standalone program!\n"
     ]
    }
   ],
   "source": [
    "if __name__ == '__main__':\n",
    "    print(\"This is now running as standalone program!\")"
   ]
  },
  {
   "cell_type": "markdown",
   "id": "a309094e",
   "metadata": {},
   "source": [
    "#### Using the main block to separate functionality from function\n",
    "\n",
    "It is efficient, and good practice, in programming to **separate code functionality (the function definitions) from code function (the executable program code)**. You are already using this pattern in your homeworks!\n",
    "\n",
    "The following program provides an **example of well-packaged code** that could readily be imported as module to other programs, which would provide them with the specified functions' functionalities:"
   ]
  },
  {
   "cell_type": "code",
   "execution_count": 17,
   "id": "e2b34dc6",
   "metadata": {},
   "outputs": [
    {
     "name": "stdout",
     "output_type": "stream",
     "text": [
      "Sum of both lists: 103301.5\n"
     ]
    }
   ],
   "source": [
    "def sum_lists(list1 , list2):\n",
    "    return sum(list1) + sum(list2)\n",
    "\n",
    "def read_floats_from_file(filename):\n",
    "    with open(filename , \"r\") as in_file:\n",
    "         lines = in_file.readlines ()\n",
    "    float_list = []\n",
    "    for line in lines:\n",
    "        float_list.append(float(line.strip ()))\n",
    "    return float_list\n",
    "\n",
    "if __name__ == \"__main__\":\n",
    "    l1 = read_floats_from_file(\"test.txt\")\n",
    "    l2 = read_floats_from_file(\"test2.txt\")\n",
    "    print(\"Sum of both lists: \" + str(sum_lists(l1 ,l2)))"
   ]
  },
  {
   "cell_type": "markdown",
   "id": "34fc7134",
   "metadata": {},
   "source": [
    "### Packages\n",
    "\n",
    "### Pattern detection via regular expressions\n",
    "\n",
    "#### Regular languages\n",
    "\n",
    "#### Finite state automata"
   ]
  }
 ],
 "metadata": {
  "kernelspec": {
   "display_name": "Python 3 (ipykernel)",
   "language": "python",
   "name": "python3"
  },
  "language_info": {
   "codemirror_mode": {
    "name": "ipython",
    "version": 3
   },
   "file_extension": ".py",
   "mimetype": "text/x-python",
   "name": "python",
   "nbconvert_exporter": "python",
   "pygments_lexer": "ipython3",
   "version": "3.9.12"
  }
 },
 "nbformat": 4,
 "nbformat_minor": 5
}
