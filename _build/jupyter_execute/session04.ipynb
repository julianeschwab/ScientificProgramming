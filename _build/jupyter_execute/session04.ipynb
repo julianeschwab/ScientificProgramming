{
 "cells": [
  {
   "cell_type": "markdown",
   "id": "7fd5ba84",
   "metadata": {},
   "source": [
    "## Advanced data types: lists, tuples, dictionaries, sets\n",
    "\n",
    "So far, we have dealt with data types that encode a single value -- a number, a string, or a Boolean value. In this session, we will learn about **data types that can contain multiple values**, which is essential when you are handling large amounts of data. At the end of this session, you should know the distinctions between four such data types, namely *lists*, *tuples*, *dictionaries*, and *sets*, and you should be able to write simple programs in which you create and modify these data types."
   ]
  },
  {
   "cell_type": "markdown",
   "id": "826f58bc",
   "metadata": {},
   "source": [
    "### Lists\n",
    "\n",
    "Lists are the most elementary of the above-mentioned data types. They contain an **ordered sequence of values of any data type**, and can even contain other lists, allowing for the representation of hierarchically structured data.  \n",
    "\n",
    "- Lists begin and end with square brackets \n",
    "- Values inside of a list are called *elements* or *items* and are comma-delimited\n",
    "- Lists can contain the same element multiple times (unlike for sets, see below)\n",
    "- Lists are *mutable*, meaning that their items can be changed in place (unlike for strings)"
   ]
  },
  {
   "cell_type": "code",
   "execution_count": 1,
   "id": "2a78d50f",
   "metadata": {},
   "outputs": [
    {
     "name": "stdout",
     "output_type": "stream",
     "text": [
      "['string', 1, True, 3.15, ['dog', 'chimpanzee', 'whale', 'platypus']]\n"
     ]
    }
   ],
   "source": [
    "list_of_mammals = [\"dog\",\"chimpanzee\",\"whale\",\"platypus\"]\n",
    "\n",
    "random_collection = [\"string\",1,True,3.15,list_of_mammals] #lists can contain any other data type\n",
    "\n",
    "print(random_collection)"
   ]
  },
  {
   "cell_type": "markdown",
   "id": "024dec58",
   "metadata": {},
   "source": [
    "#### Operating on lists\n",
    "Many **list operations** are already known from strings:\n",
    "\n",
    "- *list[k]* retrieves the *k*th item in the list\n",
    "- *len(list)* returns the number of items in the list\n",
    "- *list + list* concatenates two lists\n",
    "- *list * int* replicates the list *n* times\n",
    "- *list[i:k]* returns the *i*th to *k*th element of the list (see slicing for strings)"
   ]
  },
  {
   "cell_type": "code",
   "execution_count": 2,
   "id": "ddfff18d",
   "metadata": {},
   "outputs": [
    {
     "data": {
      "text/plain": [
       "2"
      ]
     },
     "execution_count": 2,
     "metadata": {},
     "output_type": "execute_result"
    }
   ],
   "source": [
    "len(list_of_mammals[2:]) #returns the length of the list from index position 2 until the end of the list"
   ]
  },
  {
   "cell_type": "markdown",
   "id": "99c105d0",
   "metadata": {},
   "source": [
    "If your list contains other lists, you can retrieve its elements using **multiple indexes**:"
   ]
  },
  {
   "cell_type": "code",
   "execution_count": 3,
   "id": "8c745400",
   "metadata": {},
   "outputs": [
    {
     "data": {
      "text/plain": [
       "'platypus'"
      ]
     },
     "execution_count": 3,
     "metadata": {},
     "output_type": "execute_result"
    }
   ],
   "source": [
    "random_collection[4][3] #returns the 3rd item of the list that is the 4th item of random_collection"
   ]
  },
  {
   "cell_type": "markdown",
   "id": "eea6510b",
   "metadata": {},
   "source": [
    "As mentioned above, **lists are mutable**. This means that we can we can directly add, remove, or change the values of a list without creating a new list."
   ]
  },
  {
   "cell_type": "code",
   "execution_count": 4,
   "id": "6275340a",
   "metadata": {},
   "outputs": [
    {
     "name": "stdout",
     "output_type": "stream",
     "text": [
      "['my value has changed', 1, True, 3.15, ['dog', 'chimpanzee', 'whale', 'platypus']]\n"
     ]
    }
   ],
   "source": [
    "random_collection[0] = \"my value has changed\" #replace item at index 0 with a new item\n",
    "print(random_collection)"
   ]
  },
  {
   "cell_type": "markdown",
   "id": "cf3e59bf",
   "metadata": {},
   "source": [
    "This property allows us to use of a number of **new methods**:\n",
    "\n",
    "| Method |Operation |Example | Evaluates to|\n",
    "|---|---|---|---|\n",
    "| *in* / *not in* | tests for list membership | \"platypus\" in list_of_mammals | True|\n",
    "|*list.append(obj)*| adds object to the end of the list|list_of_mammals.append(\"horse\")|['dog', 'chimpanzee', 'whale', 'platypus', 'horse']|\n",
    "|*list.insert(k,obj)*| adds object in front of the *k*th element|list_of_mammals.insert(2,\"horse\")|['dog', 'chimpanzee', 'horse', 'whale', 'platypus', 'horse']|\n",
    "|*list.index(obj)*| returns the index of the first occurence of obj on the list|list_of_mammals.index(\"horse\")| 2|\n",
    "|*list.pop()*| deletes rand returns the rightmost element|list_of_mammals.pop()| \"horse\"|\n",
    "|*list.pop(k)*| eletes rand returns the *k*th element|list_of_mammals.pop(2)| \"horse\"|\n",
    "|*list.remove(obj)*| removed the first instance of obj on the list|list_of_mammals.remove(\"dog\")| ['chimpanzee', 'whale', 'platypus']|\n",
    "|*list.reverse()*| reverses the list in place|list_of_mammals.reverse()| ['platypus', 'whale','chimpanzee']|\n",
    "|*list.sort()*| sorts the list in place|list_of_mammals.sort()| ['chimpanzee','platypus', 'whale']|"
   ]
  },
  {
   "cell_type": "markdown",
   "id": "1df33574",
   "metadata": {},
   "source": [
    "#### Creating lists\n",
    "\n",
    "Lists can be created in a number of ways:\n",
    "\n",
    "- direct assignment: *list = [a,b,c]*\n",
    "- starting from an empty list: *list = []*\n",
    "- the *split* method\n",
    "- list comprehensions\n",
    "\n",
    "The latter two require some explaining:  \n",
    "\n",
    "(1) **The *split* method** is a string method we have so far ignored. It allows us to split a string into a list of its part. By default, it splits the string at whitespaces. However, two optional arguments can be used to (a) specify other splitting criteria and (b) specify the number of splits to be executed:  "
   ]
  },
  {
   "cell_type": "code",
   "execution_count": 5,
   "id": "6759c508",
   "metadata": {},
   "outputs": [
    {
     "name": "stdout",
     "output_type": "stream",
     "text": [
      "['Orbiting', 'this', 'at', 'a', 'distance', 'of', 'roughly', 'ninety-two', 'million', 'miles', 'is', 'an', 'utterly', 'insignificant', 'little', 'blue', 'green', 'planet', 'whose', 'ape-descended', 'life', 'forms', 'are', 'so', 'amazingly', 'primitive', 'that', 'they', 'still', 'think', 'digital', 'watches', 'are', 'a', 'pretty', 'neat', 'idea.']\n"
     ]
    }
   ],
   "source": [
    "long_string = \"Orbiting this at a distance of roughly ninety-two million miles is an utterly insignificant little blue green planet whose ape-descended life forms are so amazingly primitive that they still think digital watches are a pretty neat idea.\"\n",
    "\n",
    "string_list = long_string.split()\n",
    "print(string_list)"
   ]
  },
  {
   "cell_type": "code",
   "execution_count": 6,
   "id": "8efccd82",
   "metadata": {},
   "outputs": [
    {
     "name": "stdout",
     "output_type": "stream",
     "text": [
      "['Orbiting this at a distance of roughly ninety', 'two million miles is an utterly insignificant little blue green planet whose ape', 'descended life forms are so amazingly primitive that they still think digital watches are a pretty neat idea.']\n"
     ]
    }
   ],
   "source": [
    "hyphen_split_string = long_string.split(\"-\") #split at hyphens\n",
    "print(hyphen_split_string)"
   ]
  },
  {
   "cell_type": "code",
   "execution_count": 7,
   "id": "142a8f08",
   "metadata": {},
   "outputs": [
    {
     "name": "stdout",
     "output_type": "stream",
     "text": [
      "['Orbiting this at a distance of roughly ninety', 'two million miles is an utterly insignificant little blue green planet whose ape-descended life forms are so amazingly primitive that they still think digital watches are a pretty neat idea.']\n"
     ]
    }
   ],
   "source": [
    "single_hyphen_split_string = long_string.split(\"-\",1) #only split once\n",
    "print(single_hyphen_split_string)"
   ]
  },
  {
   "cell_type": "markdown",
   "id": "4a777f6b",
   "metadata": {},
   "source": [
    "**As an aside: The reverse of the *split* method is the *join* method, which creates a string from a list of string elements, joining them by the string provided as its first argument.**"
   ]
  },
  {
   "cell_type": "code",
   "execution_count": 8,
   "id": "5a340b42",
   "metadata": {},
   "outputs": [
    {
     "data": {
      "text/plain": [
       "'Orbiting this at a distance of roughly ninety-two million miles is an utterly insignificant little blue green planet whose ape-descended life forms are so amazingly primitive that they still think digital watches are a pretty neat idea.'"
      ]
     },
     "execution_count": 8,
     "metadata": {},
     "output_type": "execute_result"
    }
   ],
   "source": [
    "\" \".join(string_list)"
   ]
  },
  {
   "cell_type": "markdown",
   "id": "659aaff7",
   "metadata": {},
   "source": [
    "(2) **List comprehensions** are short-form syntax for a *for* loop over list elements. \n",
    "\n",
    "General syntax: *new list = [expression for item in iterable (if condition == True)]*\n",
    "\n",
    "Let's look at some examples:"
   ]
  },
  {
   "cell_type": "code",
   "execution_count": 9,
   "id": "594f63b7",
   "metadata": {},
   "outputs": [
    {
     "name": "stdout",
     "output_type": "stream",
     "text": [
      "[1, 4, 9, 16, 25, 36, 49, 64, 81]\n"
     ]
    }
   ],
   "source": [
    "#Example 1: Square Numbers\n",
    "squared_numbers = [x*x for x in range(1,10)] #for all x in range(1,10) add x*x to the new list squared_numbers\n",
    "print(squared_numbers)"
   ]
  },
  {
   "cell_type": "code",
   "execution_count": 10,
   "id": "6b5afcee",
   "metadata": {},
   "outputs": [
    {
     "name": "stdout",
     "output_type": "stream",
     "text": [
      "['AT', 'A', 'DISTANCE', 'AN', 'INSIGNIFICANT', 'PLANET', 'APE-DESCENDED', 'ARE', 'AMAZINGLY', 'THAT', 'DIGITAL', 'WATCHES', 'ARE', 'A', 'NEAT', 'IDEA.']\n"
     ]
    }
   ],
   "source": [
    "#Example 2: Capitalize and return all words containing the vowels 'a' or 'e' from a longer list of words \n",
    "upper_a_or_e_words = [x.upper() for x in string_list if ('a' or 'e') in x]\n",
    "print(upper_a_or_e_words)"
   ]
  },
  {
   "cell_type": "markdown",
   "id": "af8a2397",
   "metadata": {},
   "source": [
    "#### Processing lists\n",
    "**(1) Loops**  \n",
    "\n",
    "What the example above already showed you is that lists are **iterable**, meaning that we can process them element by element using a *for* loop.\n",
    "\n",
    "Let's do the same thing as in Example 2 above, only using a *for* loop:"
   ]
  },
  {
   "cell_type": "code",
   "execution_count": 11,
   "id": "6911ba87",
   "metadata": {},
   "outputs": [
    {
     "name": "stdout",
     "output_type": "stream",
     "text": [
      "['AT', 'A', 'DISTANCE', 'AN', 'INSIGNIFICANT', 'PLANET', 'APE-DESCENDED', 'ARE', 'AMAZINGLY', 'THAT', 'DIGITAL', 'WATCHES', 'ARE', 'A', 'NEAT', 'IDEA.']\n"
     ]
    }
   ],
   "source": [
    "upper_a_or_e_words_2 = []\n",
    "for x in string_list:\n",
    "    if ('a' or 'e') in x:\n",
    "        upper_a_or_e_words_2.append(x.upper())\n",
    "        \n",
    "print(upper_a_or_e_words_2)"
   ]
  },
  {
   "cell_type": "markdown",
   "id": "ba552e3d",
   "metadata": {},
   "source": [
    "**(2) Aggregation functions**\n",
    "\n",
    "There are some simple and frequently used functions that process list elements:\n",
    "\n",
    "- *sum()* on a list of numbers returns their sum: *sum([2,15,67]) = 84 *\n",
    "- *min()* and *max()* on a list of numbers return the minimum and the maximum value, respectively\n",
    "- on a list of strings, *min()* and *max()* return the string that is first and last in alphabetical order, respectively. "
   ]
  },
  {
   "cell_type": "markdown",
   "id": "e54f3d98",
   "metadata": {},
   "source": [
    "**(3) Advanced functions**\n",
    "\n",
    "Two extremely useful function for processing lists are *enumerate(list)* and *zip(list1,..., listn)*.  \n",
    "\n",
    "- ***Enumerate(list)*** allows us to loop over the elements in the list and and have an automatic counter. The result of that function is an *enumerate* object, which can be transformed back to a list of numbered tuples (see below for more on the tuple data type) or whose elements (both the list element and the counter) can be employed in *for* loops (see below)\n"
   ]
  },
  {
   "cell_type": "code",
   "execution_count": 12,
   "id": "0a69dc0c",
   "metadata": {},
   "outputs": [
    {
     "name": "stdout",
     "output_type": "stream",
     "text": [
      "[(0, 'dog'), (1, 'chimpanzee'), (2, 'whale'), (3, 'platypus')]\n"
     ]
    }
   ],
   "source": [
    "counter_list = list(enumerate(list_of_mammals)) #loop over the list elements and count them. Assign the result back to a list\n",
    "print(counter_list)"
   ]
  },
  {
   "cell_type": "code",
   "execution_count": 13,
   "id": "e9de8f80",
   "metadata": {},
   "outputs": [
    {
     "name": "stdout",
     "output_type": "stream",
     "text": [
      "The index of the list element 'whale' is  2\n",
      "The animal at list index  3  is  platypus\n"
     ]
    }
   ],
   "source": [
    "for i, animal in enumerate(list_of_mammals):\n",
    "    if i == 3:\n",
    "        print(\"The animal at list index \",i,\" is \",animal)\n",
    "    elif animal == 'whale':\n",
    "        print(\"The index of the list element 'whale' is \",i)"
   ]
  },
  {
   "cell_type": "markdown",
   "id": "38913c8c",
   "metadata": {},
   "source": [
    "- ***Zip(list1,...listn)*** allows us to iterate over multiple lists at once. Just as for *enumerate*, the result of that function is a *zip* object, which can be transformed back to a list of paired tuples or whose elements can be iterated over in *for* loops (see below). "
   ]
  },
  {
   "cell_type": "code",
   "execution_count": 14,
   "id": "413c0cc7",
   "metadata": {},
   "outputs": [
    {
     "name": "stdout",
     "output_type": "stream",
     "text": [
      "[('dog', 'robin'), ('chimpanzee', 'duck'), ('whale', 'penguin'), ('platypus', 'pidgeon')]\n"
     ]
    }
   ],
   "source": [
    "list_of_birds = [\"robin\",\"duck\",\"penguin\",\"pidgeon\"]\n",
    "\n",
    "list_of_animals = list(zip(list_of_mammals,list_of_birds))\n",
    "print(list_of_animals)"
   ]
  },
  {
   "cell_type": "code",
   "execution_count": 15,
   "id": "d01043aa",
   "metadata": {},
   "outputs": [
    {
     "name": "stdout",
     "output_type": "stream",
     "text": [
      "a dog is a mammal, a robin is a bird\n",
      "a chimpanzee is a mammal, a duck is a bird\n",
      "a whale is a mammal, a penguin is a bird\n",
      "a platypus is a mammal, a pidgeon is a bird\n"
     ]
    }
   ],
   "source": [
    "for mammal , bird in zip(list_of_mammals ,list_of_birds):\n",
    "    print(\"a \" + mammal +\" is a mammal, a \"+ bird + \" is a bird\")"
   ]
  },
  {
   "cell_type": "markdown",
   "id": "c558d04d",
   "metadata": {},
   "source": [
    "### <span style=\"color:red\">End of lecture 4 (November 22, 2022).</span>\n",
    "\n",
    "\n",
    "### Tuples\n",
    "\n",
    "### Dictionaries\n",
    "\n",
    "### Sets"
   ]
  }
 ],
 "metadata": {
  "kernelspec": {
   "display_name": "Python 3 (ipykernel)",
   "language": "python",
   "name": "python3"
  },
  "language_info": {
   "codemirror_mode": {
    "name": "ipython",
    "version": 3
   },
   "file_extension": ".py",
   "mimetype": "text/x-python",
   "name": "python",
   "nbconvert_exporter": "python",
   "pygments_lexer": "ipython3",
   "version": "3.9.12"
  }
 },
 "nbformat": 4,
 "nbformat_minor": 5
}