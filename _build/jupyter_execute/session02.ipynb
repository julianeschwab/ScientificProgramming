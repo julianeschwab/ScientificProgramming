{
 "cells": [
  {
   "cell_type": "markdown",
   "id": "a58a22ce",
   "metadata": {},
   "source": [
    "# Data types and statements\n",
    "\n",
    "In this session, you will learn about the different **data types** Python can handle, about **storing data in variables** and modifying their contents through **assignment operators**, and about some of the essential basic **functions** in Python. At the end of this session, you should be able to write simple programs that assign, manipulate and return different types of data.  \n",
    "\n",
    "## Data types\n",
    "\n",
    "When speaking of data types, we are refering to different **categories** that a value can belong to. Values always belong to exactly one data type, that is, an if a value is of the *integer* type, for instance, it cannot simultaneously be of the *float* type. Integer values can be transformed into float values, however, as we will see below. \n",
    "\n",
    "### Boolean\n",
    "\n",
    "The Boolean data type only encodes the logical values *True* and *False*, encodable in bytes as 1 and 0, respectively. The Boolean data type is highly useful in programming. Many operators and functions return Boolean values to indicate whether a statement fulfills a certain condition (e.g., *is x bigger than y?*) "
   ]
  },
  {
   "cell_type": "code",
   "execution_count": 1,
   "id": "1cdf9162",
   "metadata": {},
   "outputs": [
    {
     "name": "stdout",
     "output_type": "stream",
     "text": [
      "<class 'bool'>\n"
     ]
    }
   ],
   "source": [
    "a = False\n",
    "print(type(a))"
   ]
  },
  {
   "cell_type": "code",
   "execution_count": 2,
   "id": "8b210119",
   "metadata": {},
   "outputs": [
    {
     "data": {
      "text/plain": [
       "True"
      ]
     },
     "execution_count": 2,
     "metadata": {},
     "output_type": "execute_result"
    }
   ],
   "source": [
    "3 > 2 #the 'bigger than' operator is an example for an operator return a Boolean value"
   ]
  },
  {
   "cell_type": "markdown",
   "id": "6151e6f9",
   "metadata": {},
   "source": [
    "### Numbers \n",
    "\n",
    "Values that are numbers can belong to three distinct categories: *integers*, *floating-point numbers*, or *complex* numbers.\n",
    "\n",
    "#### Integer\n",
    "\n",
    "Integer values are **whole numbers**, e.g. -300, 0, 300.  \n",
    "\n",
    "Integer values can be stored in bits. In a 32-bit encoding, integers up to the size of 2.147.483.648 can be respresented.  \n",
    "\n",
    "Binary encoding uses 2's complement. Let's take a look at binary encodings of integers in a 16-bit system:\n",
    "\n",
    "| decimal | 16-bit binary| | | | | | | | | | | | | | | |    \n",
    "| ------ | ------ | ------ |  ------ |------ |------ |------ |------ |------ |------ |------ |------ |------ |------ |------ |------ |------ |  \n",
    "| | 32768 | 16384 | 8192 | 4096 | 2048 | 1024 | 512 | 256 | 128 | 64 | 32 | 16 | $2^3$ = 8 | $2^2$ = 4 | $2^1$ = 2 | $2^0$ = 1|\n",
    "| 0 | 0|0|0|0| 0|0|0|0| 0|0|0|0| 0|0|0|0|  \n",
    "| 10 | 0|0|0|0 |0|0|0|0 |0|0|0|0 |1|0|1|0 |  \n",
    "| 150 | 0|0|0|0| 0|0|0|0| 1|0|0|1| 0|1|1|0| \n",
    "| 32000 | 0|1|1|1| 1|1|0|1| 0|0|0|0| 0|0|0|0| "
   ]
  },
  {
   "cell_type": "code",
   "execution_count": 3,
   "id": "ce7f773b",
   "metadata": {},
   "outputs": [
    {
     "name": "stdout",
     "output_type": "stream",
     "text": [
      "<class 'int'>\n"
     ]
    }
   ],
   "source": [
    "b = 300\n",
    "\n",
    "print(type(b))"
   ]
  },
  {
   "cell_type": "markdown",
   "id": "88c3e0ab",
   "metadata": {},
   "source": [
    "**Question**: Can we represent negative numbers in this system? It will be part of your homework to figure this out."
   ]
  },
  {
   "cell_type": "markdown",
   "id": "77af7a14",
   "metadata": {},
   "source": [
    "#### Float\n",
    "\n",
    "Positive and negative numbers with a decimal point are called *floating-point numbers*. Floating-point numbers are expressed by their **sign** (positive/negative), their **mantissa**, and their **exponent to the power of two**.  \n",
    "\n",
    "15.5 = +1.9375 $\\times$ $2^3$  \n",
    "\n",
    "This type of representation allows for efficient encoding and representations of very large numbers in binary form. Let's see how this is achieved:  \n",
    "\n",
    "In a 16-bit encoding, 1 bit is allocated to the sign (0 = positive, 1 = negative), 6 are allocated to the exponent (in binary encoding using 2's complement), and 9 are allocated to the mantissa (in binary encoding using 2's complement with negative exponent).   \n",
    "\n",
    "Since there may be multiple matching mantissa and exponents for representing a number like 15.5, we assume a **normalized mantissa** that always carries a 1 before its decimal point, i.e. *1 $\\leq$ mantissa < 2*. Since it is redundant to encode the 1 and decimal point, they are left out of the encoded form, but can always be understood to be present at the left of the mantissa (see below).  \n",
    "\n",
    "Given *x* = 15.5  \n",
    "\n",
    "1. Determine the sign: positive sign = 0  \n",
    "2. Determine the exponent: find the largest 2<sup>e</sup> $\\leq$ x \n",
    "3. Determine the mantissa: *m* = x / 2<sup>e</sup> with *e* according to step 2.\n",
    "4. Transform to binary encoding:\n",
    "\n",
    "| sign | (pre-decimal) | reduced mantissa | | | | | | | | | exponent | | | | | |\n",
    "| ---- | ---- | ---- | ---- | ---- | ---- | ---- | ---- | ---- | ---- | ---- | ---- | ---- | ---- | ---- | ---- | ---- |\n",
    "| pos. | (1.) | 2<sup>-1</sup> =  $\\frac{1}{2}$ | 2<sup>-2</sup> = $\\frac{1}{4}$ | 2<sup>-3</sup> | 2<sup>-4</sup> | 2<sup>-5</sup> | 2<sup>-6</sup> | 2<sup>-7</sup> | 2<sup>-8</sup> | 2<sup>-9</sup> | 32 | 16 | 8 | 4 | 2 | 1 |\n",
    "| 0 | | 1 | 1 | 1 | 1 | 0 | 0 | 0 | 0 | 0 | 0 | 0 | 0 | 0 | 1 | 1 |  "
   ]
  },
  {
   "cell_type": "code",
   "execution_count": 4,
   "id": "bd619706",
   "metadata": {},
   "outputs": [
    {
     "name": "stdout",
     "output_type": "stream",
     "text": [
      "c is of type <class 'float'>\n"
     ]
    }
   ],
   "source": [
    "c = 15.5\n",
    "\n",
    "print(\"c is of type\",type(c))"
   ]
  },
  {
   "cell_type": "code",
   "execution_count": 5,
   "id": "d5dfd9fe",
   "metadata": {},
   "outputs": [
    {
     "name": "stdout",
     "output_type": "stream",
     "text": [
      "d equals 300.0\n",
      "d is of type <class 'float'>\n"
     ]
    }
   ],
   "source": [
    "#Note that we can transform integer numbers into float numbers and the other way around.\n",
    "\n",
    "#1. We can transform our int variable b into type float as follows:\n",
    "\n",
    "d = float(b)\n",
    "print(\"d equals\",d)\n",
    "print(\"d is of type\",type(d))"
   ]
  },
  {
   "cell_type": "code",
   "execution_count": 6,
   "id": "1d4f035c",
   "metadata": {},
   "outputs": [
    {
     "name": "stdout",
     "output_type": "stream",
     "text": [
      "e equals 15\n",
      "CAREFUL! Note that tranforming floats into integers may change the value of your variable due to the loss of decimals. You will not receive a warning when this happens!\n"
     ]
    }
   ],
   "source": [
    "#2. We can transform our float variable c into an integer as follows:\n",
    "e =int(c)\n",
    "print(\"e equals\",e)\n",
    "print(\"CAREFUL! Note that tranforming floats into integers may change the value of your variable due to the loss of decimals. You will not receive a warning when this happens!\")"
   ]
  },
  {
   "cell_type": "markdown",
   "id": "5f8fb977",
   "metadata": {},
   "source": [
    "#### Complex\n",
    "As you may remember from maths classes, complex numbers employ the specific element *i*, called the imaginary unit, where i<sup>2</sup> = −1; every complex number can be expressed in the form *a + bi*, where a and b are real numbers.  \n",
    "\n",
    "For some reason (feel free to go down the rabbithole on that one...), Python uses *j* instead of *i* to represent the imaginary unit. Complex numbers can thus be written as *x = a + bj*."
   ]
  },
  {
   "cell_type": "code",
   "execution_count": 7,
   "id": "797a67ae",
   "metadata": {},
   "outputs": [
    {
     "name": "stdout",
     "output_type": "stream",
     "text": [
      "f is of type <class 'complex'>\n",
      "(1+2j)\n"
     ]
    }
   ],
   "source": [
    "f = 1 + 2j\n",
    "print(\"f is of type\",type(f))\n",
    "\n",
    "print(f)"
   ]
  },
  {
   "cell_type": "markdown",
   "id": "a96af08e",
   "metadata": {},
   "source": [
    "What happens if we leave out either the real or imaginary part of the numbers? Let's try it out:"
   ]
  },
  {
   "cell_type": "code",
   "execution_count": 8,
   "id": "26536c74",
   "metadata": {},
   "outputs": [
    {
     "name": "stdout",
     "output_type": "stream",
     "text": [
      "g is of type <class 'complex'>\n",
      "2j\n"
     ]
    }
   ],
   "source": [
    "g = 2j\n",
    "print(\"g is of type\",type(g))\n",
    "\n",
    "print(g)"
   ]
  },
  {
   "cell_type": "code",
   "execution_count": 9,
   "id": "1efe328b",
   "metadata": {},
   "outputs": [
    {
     "name": "stdout",
     "output_type": "stream",
     "text": [
      "h is of type <class 'complex'>\n",
      "(1+0j)\n"
     ]
    }
   ],
   "source": [
    "h = 1 + 0j\n",
    "print(\"h is of type\",type(h))\n",
    "\n",
    "print(h)"
   ]
  },
  {
   "cell_type": "markdown",
   "id": "3e5e803c",
   "metadata": {},
   "source": [
    "### Maths operators\n",
    "\n",
    "We can perform a range of simple mathematical operations on numerical data types, such as subtraction, addition, multiplication, and so on...\n",
    "\n",
    "|Operator |Operation |Example |Evaluates to |\n",
    "|---|---|---|---|\n",
    "| - | Subtraction |5 - 2 | 3 |\n",
    "|+| Addition|2 + 2|4|\n",
    "|\\*|Multiplication|2 \\* 2|4|\n",
    "|/|Division|5 / 2|2.5|\n",
    "|\\*\\*|Exponent|2 ** 3|8|\n",
    "|%|Modulus/remainder|22 % 8|6|\n",
    "|//|Integer division/floored quotient|22 // 8|2|"
   ]
  },
  {
   "cell_type": "markdown",
   "id": "36c3520d",
   "metadata": {},
   "source": [
    "### Strings\n",
    "\n",
    "String values are a sequence of characters. The have to obey a number of rules:\n",
    "\n",
    " - must be surrounded by single ( 'string' ) or double quotes ( \"string\" )\n",
    "- only the other type of quotes is allowed inside a string:\n",
    "    - 'I am a \"string\"' is a string\n",
    "    - \"I am a ’string’\" is also a string\n",
    "    - \"I am a \"string\"\" is not a valid string\n",
    "- the backslash has special significance as an escape character, \"some\\time\\ago\" will look different from what you think\n",
    "- to produce an actual backslash, you need to have it twice: \"some\\\\time\\\\ago\"\n",
    "- Other common escape characters are:\n",
    "    - *\\b* - Backspace         \n",
    "    - *\\r* - Carriage Return                      \n",
    "    - *\\n* - New Line                 \n",
    "    - *\\’* - Single Quote    \n",
    "    - *\\t* - Tab   "
   ]
  },
  {
   "cell_type": "code",
   "execution_count": 10,
   "id": "f4a56065",
   "metadata": {},
   "outputs": [
    {
     "name": "stdout",
     "output_type": "stream",
     "text": [
      "Hello world!\n",
      "<class 'str'>\n"
     ]
    }
   ],
   "source": [
    "i = \"Hello world!\"\n",
    "\n",
    "print(i)\n",
    "print(type(i))"
   ]
  },
  {
   "cell_type": "markdown",
   "id": "812a2646",
   "metadata": {},
   "source": [
    "#### Simple string operations\n",
    "\n",
    "You cannot perform mathematical operations on strings, with two exceptions:\n",
    "\n",
    "1. The *+* operator represents concatenation of strings, not addition. Concatenation means joining two strings by their ends.\n",
    "2. Strings can be replicated by mutiplication with an integer number.\n"
   ]
  },
  {
   "cell_type": "code",
   "execution_count": 11,
   "id": "3efe7921",
   "metadata": {},
   "outputs": [
    {
     "name": "stdout",
     "output_type": "stream",
     "text": [
      "Hello world!\n",
      "Where\n",
      "are\n",
      "you?\n"
     ]
    }
   ],
   "source": [
    "j = \"\\nWhere\\nare\\nyou?\"\n",
    "\n",
    "print(i+j)"
   ]
  },
  {
   "cell_type": "code",
   "execution_count": 12,
   "id": "abe43066",
   "metadata": {},
   "outputs": [
    {
     "name": "stdout",
     "output_type": "stream",
     "text": [
      "\n",
      "Where\n",
      "are\n",
      "you?\n",
      "Where\n",
      "are\n",
      "you?\n"
     ]
    }
   ],
   "source": [
    "print(j*2)"
   ]
  },
  {
   "cell_type": "markdown",
   "id": "ec205d99",
   "metadata": {},
   "source": [
    "There are, however, a number of functions with specific functionalities for string operations.\n",
    "\n",
    "1. *len()* : returns the length of a string in number of characters. *len()* is an example of a **built-in function** which can also be applied to other objects representing sequences"
   ]
  },
  {
   "cell_type": "code",
   "execution_count": 13,
   "id": "f68f868d",
   "metadata": {},
   "outputs": [
    {
     "data": {
      "text/plain": [
       "12"
      ]
     },
     "execution_count": 13,
     "metadata": {},
     "output_type": "execute_result"
    }
   ],
   "source": [
    "len(i)"
   ]
  },
  {
   "cell_type": "markdown",
   "id": "0ea792ab",
   "metadata": {},
   "source": [
    "2. *startswith()* and *endswith()*: tests whether a string starts/ends with a specific string. \n",
    "    - Note that these are **methods** specific to string objects. They are therefore called on the object itself, typed as *str.startswith(\"x\")*.\n",
    "    - They are sensitive to capitalization.\n",
    "    - You can feed a string of arbitrary length into startswith()/endswith(), even the full string whose contents you are testing."
   ]
  },
  {
   "cell_type": "code",
   "execution_count": 14,
   "id": "35f0bca3",
   "metadata": {},
   "outputs": [
    {
     "name": "stdout",
     "output_type": "stream",
     "text": [
      "True\n"
     ]
    }
   ],
   "source": [
    "print(i.startswith(\"He\"))"
   ]
  },
  {
   "cell_type": "code",
   "execution_count": 15,
   "id": "649eeae0",
   "metadata": {},
   "outputs": [
    {
     "name": "stdout",
     "output_type": "stream",
     "text": [
      "False\n"
     ]
    }
   ],
   "source": [
    "print(i.startswith(\"he\"))"
   ]
  },
  {
   "cell_type": "code",
   "execution_count": 16,
   "id": "4caa36b1",
   "metadata": {},
   "outputs": [
    {
     "name": "stdout",
     "output_type": "stream",
     "text": [
      "False\n"
     ]
    }
   ],
   "source": [
    "print(j.endswith(\"!\"))"
   ]
  },
  {
   "cell_type": "code",
   "execution_count": 17,
   "id": "39fc4036",
   "metadata": {},
   "outputs": [
    {
     "name": "stdout",
     "output_type": "stream",
     "text": [
      "True\n"
     ]
    }
   ],
   "source": [
    "print(j.endswith(j))"
   ]
  },
  {
   "cell_type": "markdown",
   "id": "fb09eefa",
   "metadata": {},
   "source": [
    "3. *in* and *index*: *in* is an operator that asks whether an object is contained in a sequence, whereas *index()* is a method that returns the position of that object in a sequence\n",
    "    - *in* will only return True or False, but will not tell you how many times an object is contained within the sequence\n",
    "    - *index()* starts counting at 0"
   ]
  },
  {
   "cell_type": "code",
   "execution_count": 18,
   "id": "31c94554",
   "metadata": {},
   "outputs": [
    {
     "name": "stdout",
     "output_type": "stream",
     "text": [
      "True\n"
     ]
    }
   ],
   "source": [
    "print(\"mäh\" in \"Rasenmäher\")"
   ]
  },
  {
   "cell_type": "code",
   "execution_count": 19,
   "id": "06e63736",
   "metadata": {},
   "outputs": [
    {
     "name": "stdout",
     "output_type": "stream",
     "text": [
      "5\n"
     ]
    }
   ],
   "source": [
    "print(\"Rasenmäher\".index(\"mäh\"))"
   ]
  },
  {
   "cell_type": "markdown",
   "id": "f6ce43f8",
   "metadata": {},
   "source": [
    "4. *lower()* and *upper()*: methods than return lower- or uppercase copies of the strings they operate on"
   ]
  },
  {
   "cell_type": "code",
   "execution_count": 20,
   "id": "94fbec55",
   "metadata": {},
   "outputs": [
    {
     "name": "stdout",
     "output_type": "stream",
     "text": [
      "hello world!\n"
     ]
    }
   ],
   "source": [
    "print(i.lower())"
   ]
  },
  {
   "cell_type": "code",
   "execution_count": 21,
   "id": "f390d86c",
   "metadata": {},
   "outputs": [
    {
     "name": "stdout",
     "output_type": "stream",
     "text": [
      "\n",
      "WHERE\n",
      "ARE\n",
      "YOU?\n"
     ]
    }
   ],
   "source": [
    "print(j.upper())"
   ]
  },
  {
   "cell_type": "markdown",
   "id": "758e6fbd",
   "metadata": {},
   "source": [
    "5. *replace()*: method that replaces all instances of the first type with instances of the second\n",
    "   - an optional third argument can limit how many instances of the first type should be replaced"
   ]
  },
  {
   "cell_type": "code",
   "execution_count": 22,
   "id": "f0cd23d7",
   "metadata": {},
   "outputs": [
    {
     "name": "stdout",
     "output_type": "stream",
     "text": [
      "Far out in the uncharted backwaters of the unfashionable end of the western spiral arm of the Galaxy lies a small unregarded yellow sun.\n"
     ]
    }
   ],
   "source": [
    "k = \"Far out in the uncharted backwaters of the unfashionable end of the western spiral arm of the Galaxy lies a small unregarded yellow sun.\"\n",
    "\n",
    "print(k)"
   ]
  },
  {
   "cell_type": "code",
   "execution_count": 23,
   "id": "225fb828",
   "metadata": {},
   "outputs": [
    {
     "name": "stdout",
     "output_type": "stream",
     "text": [
      "Far_out_in_the_uncharted_backwaters_of_the_unfashionable_end_of_the_western_spiral_arm_of_the_Galaxy_lies_a_small_unregarded_yellow_sun.\n"
     ]
    }
   ],
   "source": [
    "print(k.replace(\" \",\"_\"))"
   ]
  },
  {
   "cell_type": "code",
   "execution_count": 24,
   "id": "1bf2d967",
   "metadata": {},
   "outputs": [
    {
     "name": "stdout",
     "output_type": "stream",
     "text": [
      "FAAAr out in the unchAAArted backwaters of the unfashionable end of the western spiral arm of the Galaxy lies a small unregarded yellow sun.\n"
     ]
    }
   ],
   "source": [
    "print(k.replace(\"a\",\"AAA\",2))"
   ]
  },
  {
   "cell_type": "markdown",
   "id": "49c6e53f",
   "metadata": {},
   "source": [
    "6. Slicing: To return just part of a string, you can indicate *which* part by way of its numerical indices\n",
    "    - *str[start : end]* will return a copy of the string starting with the character at *start* and ending with the character at *end*, where *start* and *end* are integer indices, respectively\n",
    "    - *str[start : ]* will return a copy of the string starting with the character at *start* \n",
    "    - *str[ : end]* will return a copy of the string ending with the character at *end*  \n",
    "    - a position *-x* will be interpreted as *len(string)-s*\n",
    "    - providing a third number *k* will return every *k*th letter: *str[start : end : k]*"
   ]
  },
  {
   "cell_type": "code",
   "execution_count": 25,
   "id": "18f808a3",
   "metadata": {},
   "outputs": [
    {
     "name": "stdout",
     "output_type": "stream",
     "text": [
      "Far out\n"
     ]
    }
   ],
   "source": [
    "print(k[0:7]) #returns letters 0-7"
   ]
  },
  {
   "cell_type": "code",
   "execution_count": 26,
   "id": "15172b26",
   "metadata": {},
   "outputs": [
    {
     "name": "stdout",
     "output_type": "stream",
     "text": [
      "Far out\n"
     ]
    }
   ],
   "source": [
    "print(k[:7]) #returns letters 0-7"
   ]
  },
  {
   "cell_type": "code",
   "execution_count": 27,
   "id": "7674febf",
   "metadata": {},
   "outputs": [
    {
     "name": "stdout",
     "output_type": "stream",
     "text": [
      "fashionable end of the western spiral arm of the Galaxy lies a small unregarded yellow sun.\n"
     ]
    }
   ],
   "source": [
    "print(k[45:]) #returns all letters from the 45th letter to the end of the string"
   ]
  },
  {
   "cell_type": "code",
   "execution_count": 28,
   "id": "34eee603",
   "metadata": {},
   "outputs": [
    {
     "name": "stdout",
     "output_type": "stream",
     "text": [
      "Fu urba hfoe hs amta  anryw.\n"
     ]
    }
   ],
   "source": [
    "print(k[::5]) #returns every 5th letter"
   ]
  },
  {
   "cell_type": "code",
   "execution_count": 29,
   "id": "79f6543e",
   "metadata": {},
   "outputs": [
    {
     "name": "stdout",
     "output_type": "stream",
     "text": [
      "rba hfoe hs amta  an\n"
     ]
    }
   ],
   "source": [
    "print(k[+20:-20:5]) #returns every 5th letter, starting 20 letters after the start of the string and ending 20 letters before its end"
   ]
  },
  {
   "cell_type": "markdown",
   "id": "2ccf5365",
   "metadata": {},
   "source": [
    "### Sequences\n",
    "\n",
    "#### List\n",
    "\n",
    "#### Tuple\n",
    "\n",
    "#### Range\n",
    "\n",
    "### Mappings\n",
    "\n",
    "#### Dictionary\n",
    "\n",
    "#### Set\n",
    "\n",
    "There are other data types..."
   ]
  },
  {
   "cell_type": "code",
   "execution_count": 30,
   "id": "c278bc65",
   "metadata": {},
   "outputs": [
    {
     "ename": "NameError",
     "evalue": "name 'false' is not defined",
     "output_type": "error",
     "traceback": [
      "\u001b[1;31m---------------------------------------------------------------------------\u001b[0m",
      "\u001b[1;31mNameError\u001b[0m                                 Traceback (most recent call last)",
      "\u001b[1;32m~\\AppData\\Local\\Temp\\ipykernel_2140\\81428746.py\u001b[0m in \u001b[0;36m<module>\u001b[1;34m\u001b[0m\n\u001b[0;32m      1\u001b[0m \u001b[1;31m#Why does the following not work?\u001b[0m\u001b[1;33m\u001b[0m\u001b[1;33m\u001b[0m\u001b[0m\n\u001b[1;32m----> 2\u001b[1;33m \u001b[0ma\u001b[0m \u001b[1;33m=\u001b[0m \u001b[0mfalse\u001b[0m\u001b[1;33m\u001b[0m\u001b[1;33m\u001b[0m\u001b[0m\n\u001b[0m\u001b[0;32m      3\u001b[0m \u001b[1;33m\u001b[0m\u001b[0m\n\u001b[0;32m      4\u001b[0m \u001b[1;31m#What will be the type of this variable?\u001b[0m\u001b[1;33m\u001b[0m\u001b[1;33m\u001b[0m\u001b[0m\n\u001b[0;32m      5\u001b[0m \u001b[0ma\u001b[0m \u001b[1;33m=\u001b[0m \u001b[1;34m\"false\"\u001b[0m\u001b[1;33m\u001b[0m\u001b[1;33m\u001b[0m\u001b[0m\n",
      "\u001b[1;31mNameError\u001b[0m: name 'false' is not defined"
     ]
    }
   ],
   "source": [
    "#Why does the following not work? \n",
    "a = false\n",
    "\n",
    "#What will be the type of this variable?\n",
    "a = \"false\""
   ]
  },
  {
   "cell_type": "markdown",
   "id": "6fb45f16",
   "metadata": {},
   "source": [
    "## Variables and assignments\n",
    "\n",
    "### Comparisons and logical operators\n",
    " Homework: find out which operations work on which data types and to what results (e.g. using modulo on a boolean and so on....)\n",
    "\n",
    "## Comments\n",
    "\n",
    "## Simple functions"
   ]
  }
 ],
 "metadata": {
  "kernelspec": {
   "display_name": "Python 3 (ipykernel)",
   "language": "python",
   "name": "python3"
  },
  "language_info": {
   "codemirror_mode": {
    "name": "ipython",
    "version": 3
   },
   "file_extension": ".py",
   "mimetype": "text/x-python",
   "name": "python",
   "nbconvert_exporter": "python",
   "pygments_lexer": "ipython3",
   "version": "3.9.12"
  }
 },
 "nbformat": 4,
 "nbformat_minor": 5
}