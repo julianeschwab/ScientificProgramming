{
 "cells": [
  {
   "cell_type": "markdown",
   "id": "356b455a",
   "metadata": {},
   "source": [
    "# Functions and conditional execution\n",
    "\n",
    "## Code structure\n",
    "\n",
    "Proper **formatting** of your code is essential to ensure that it runs in the intended order and is understandable to others (as well as your future self). Code readability is also improved by documentation in the form of **comments/annotations**, which, in addition, are a useful tool in debugging (cf. **rubber duck debugging**: https://en.wikipedia.org/wiki/Rubber_duck_debugging). \n",
    "\n",
    "\n",
    "### Indentation\n",
    "\n",
    "For advanced constructs, **lines of code are organised in blocks**. Blocks specify sequences of statements that are always executed together in the same order. Blocks are organised through levels of code indentation. There are three rules for blocks.  \n",
    "\n",
    "- Blocks begin when the indentation increases.\n",
    "- Blocks can contain other blocks.\n",
    "- Blocks end when the indentation decreases to zero or to a containing block’s indentation.  \n",
    "\n",
    "This will be easier to understand by way of example:"
   ]
  },
  {
   "cell_type": "code",
   "execution_count": 1,
   "id": "23d5292b",
   "metadata": {},
   "outputs": [
    {
     "name": "stdout",
     "output_type": "stream",
     "text": [
      "Forest runs and runs and runs.\n"
     ]
    }
   ],
   "source": [
    "x = 'Forest runs'\n",
    "\n",
    "while ('and runs and runs' not in x):\n",
    "    x += ' and runs'\n",
    "x+='.'\n",
    "print(x)\n",
    "    "
   ]
  },
  {
   "cell_type": "markdown",
   "id": "c26fbc42",
   "metadata": {},
   "source": [
    "Note that the period is only added once we have exited the inner block (or *loop*). We will lean more about loops later."
   ]
  },
  {
   "cell_type": "markdown",
   "id": "c65d40a3",
   "metadata": {},
   "source": [
    "### Commenting\n",
    "Comments are parts of the code that are ignored by the interpreter. Typical uses for comments include:\n",
    "\n",
    "- explaining in natural language what a segment of code does \n",
    "- describing what can be done with a user-defined function\n",
    "- adding authorship and version information to the beginning of a file\n",
    "- temporarily “de-activating” lines to test other parts of the code\n",
    "\n",
    "Single-line comments are preceded by a hash character (#). Multi-line comments start and end with three (single or double) quotation marks."
   ]
  },
  {
   "cell_type": "code",
   "execution_count": 2,
   "id": "23b7315b",
   "metadata": {},
   "outputs": [
    {
     "name": "stdout",
     "output_type": "stream",
     "text": [
      "Forest walks and runs and runs.\n"
     ]
    }
   ],
   "source": [
    "if 'runs' in x: #if variable x contains the string 'runs'\n",
    "    y = x.replace('runs','walks',1) #replace its first instance with the string 'walks'\n",
    "print(y) #then print the new variable    "
   ]
  },
  {
   "cell_type": "code",
   "execution_count": 3,
   "id": "f7537880",
   "metadata": {},
   "outputs": [
    {
     "data": {
      "text/plain": [
       "'\\nYou will often find multi-line comments like this providing authorship information at the beginning of code files.\\nYou may also place them before a new block of code in order to explain its functionality.\\n\\nAuthor: Juliane Schwab, 2022\\nversion: Python 3\\n'"
      ]
     },
     "execution_count": 3,
     "metadata": {},
     "output_type": "execute_result"
    }
   ],
   "source": [
    "\"\"\"\n",
    "You will often find multi-line comments like this providing authorship information at the beginning of code files.\n",
    "You may also place them before a new block of code in order to explain its functionality.\n",
    "\n",
    "Author: Juliane Schwab, 2022\n",
    "version: Python 3\n",
    "\"\"\""
   ]
  },
  {
   "cell_type": "markdown",
   "id": "dec62377",
   "metadata": {},
   "source": [
    "### Naming variables and functions\n",
    "\n",
    "Lastly, using meaningful labels for important variables and functions makes it easier for others to understand their purpuse. To reiterate from session 2:\n",
    "\n",
    "- Important variables should get meaningful names (e.g., city = \"Tübingen\").\n",
    "- Throwaway/Temporary variables get single-letter names (e.g., a, b, i, j, ...)."
   ]
  },
  {
   "cell_type": "markdown",
   "id": "d8962cf1",
   "metadata": {},
   "source": [
    "## Functions\n",
    "Functions are **reusable blocks of code that perform an action, like computing a value, on the basis of potentially changing parameters**. We have seen examples of (in-built) functions before: *print()* prints its argument to the standard output device, *float()* transforms its argument to a floating-point number.\n",
    "\n",
    "Functions are invaluable to programming for several reasons:\n",
    "\n",
    "- **generalization**: functions avoid code duplication due to controlled execution through parameters\n",
    "- **reusability**: functions can be transfered between programs without loss of functionality\n",
    "- **manageability**: functions split code into easy-to-read chunks/blocks\n",
    "- **encapsulation**: functions can be used by other programmers without requiring knowledge of the implementation\n",
    "\n",
    "Functions are defined by a **def statement**, which specifies the name and arguments of the function. The indented code inside of the function block is the **body of the function**. Functions are executed by calling them; **function calls** use the function's name followed by parentheses, possibly containing a number of arguments within the parentheses. Note that functions can only be called *after* they have been defined.\n",
    "\n",
    "Upon calling a function, executing of the code jumps into the function and returns to the line from which the function was called only after the execution of the function has ended."
   ]
  },
  {
   "cell_type": "code",
   "execution_count": 4,
   "id": "efb50038",
   "metadata": {},
   "outputs": [
    {
     "name": "stdout",
     "output_type": "stream",
     "text": [
      "Start\n",
      "Nothing has printed yet! Only now we're calling the function:\n",
      "Programming in Python. University of Tübingen. Winter term 2022\n",
      "Stop\n"
     ]
    }
   ],
   "source": [
    "print(\"Start\")\n",
    "\n",
    "def course_information(year): #def(inition) statement\n",
    "    print(\"Programming in Python. University of Tübingen. Winter term\", year)#function body\n",
    "    #the function ends here\n",
    "\n",
    "print(\"Nothing has printed yet! Only now we're calling the function:\")\n",
    "course_information(2022) #function call with parameter \"2022\"\n",
    "print(\"Stop\")"
   ]
  },
  {
   "cell_type": "markdown",
   "id": "5ef13cba",
   "metadata": {},
   "source": [
    "### Code optimisation through functions\n",
    "\n",
    "Suboptimal code contains unnecessary duplications that could be avoided by specifying a function to do the job. In general, this type of code if difficult to read and to de-bug because you'll have to remember to change the code everywhere you copied it.\n",
    "\n",
    "#### Example of suboptimal code:"
   ]
  },
  {
   "cell_type": "code",
   "execution_count": 5,
   "id": "52c92095",
   "metadata": {},
   "outputs": [
    {
     "name": "stdout",
     "output_type": "stream",
     "text": [
      "0.125\n",
      "0.1875\n",
      "0.6875\n"
     ]
    }
   ],
   "source": [
    "word1 = \"we\"\n",
    "word2 = \"are\"\n",
    "word3 = \"programming\"\n",
    "\n",
    "combined_length = len(word1) +len(word2) + len(word3)\n",
    "\n",
    "w1_percentage = len(word1) / combined_length\n",
    "w2_percentage = len(word2) / combined_length\n",
    "w3_percentage = len(word3) / combined_length\n",
    "\n",
    "print(w1_percentage)\n",
    "print(w2_percentage)\n",
    "print(w3_percentage)"
   ]
  },
  {
   "cell_type": "markdown",
   "id": "ba608bd0",
   "metadata": {},
   "source": [
    "#### Example of optimized code"
   ]
  },
  {
   "cell_type": "code",
   "execution_count": 6,
   "id": "884a82b1",
   "metadata": {},
   "outputs": [
    {
     "name": "stdout",
     "output_type": "stream",
     "text": [
      "0.125\n",
      "0.1\n",
      "0.2\n"
     ]
    }
   ],
   "source": [
    "def string_percentage(word,length):\n",
    "    print(len(word)/length)\n",
    "\n",
    "#flexible use of function with varying input:    \n",
    "string_percentage(word1,combined_length)\n",
    "string_percentage(word1, 20)\n",
    "string_percentage(\"love\",20)"
   ]
  },
  {
   "cell_type": "markdown",
   "id": "69f6eaf7",
   "metadata": {},
   "source": [
    "### Nested function calls\n",
    "\n",
    "Functions can be called within functions. Be wary of the order in which code blocks are executed, particularly for more complex programs with many nested function calls."
   ]
  },
  {
   "cell_type": "code",
   "execution_count": 7,
   "id": "2e62a823",
   "metadata": {},
   "outputs": [
    {
     "name": "stdout",
     "output_type": "stream",
     "text": [
      "0.3333333333333333\n",
      "0.25\n"
     ]
    }
   ],
   "source": [
    "def outer_function():\n",
    "    z = 3\n",
    "    global y \n",
    "    y = 4\n",
    "    string_percentage(\"a\",z)\n",
    "    string_percentage(\"a\",y)\n",
    "\n",
    "outer_function()"
   ]
  },
  {
   "cell_type": "markdown",
   "id": "4fdf7198",
   "metadata": {},
   "source": [
    "Note that variables that are only defined inside of a function body are **local variables** of that function. They do not exist once you exit the function.   \n",
    "You can create **global variables** inside a function by using the global keyword (see code block above)."
   ]
  },
  {
   "cell_type": "code",
   "execution_count": 8,
   "id": "49c78e41",
   "metadata": {},
   "outputs": [
    {
     "ename": "NameError",
     "evalue": "name 'z' is not defined",
     "output_type": "error",
     "traceback": [
      "\u001b[1;31m---------------------------------------------------------------------------\u001b[0m",
      "\u001b[1;31mNameError\u001b[0m                                 Traceback (most recent call last)",
      "\u001b[1;32m~\\AppData\\Local\\Temp\\ipykernel_3768\\557461111.py\u001b[0m in \u001b[0;36m<module>\u001b[1;34m\u001b[0m\n\u001b[1;32m----> 1\u001b[1;33m \u001b[0mprint\u001b[0m\u001b[1;33m(\u001b[0m\u001b[0mz\u001b[0m\u001b[1;33m)\u001b[0m\u001b[1;33m\u001b[0m\u001b[1;33m\u001b[0m\u001b[0m\n\u001b[0m",
      "\u001b[1;31mNameError\u001b[0m: name 'z' is not defined"
     ]
    }
   ],
   "source": [
    "print(z)"
   ]
  },
  {
   "cell_type": "code",
   "execution_count": 9,
   "id": "ce3547f6",
   "metadata": {},
   "outputs": [
    {
     "name": "stdout",
     "output_type": "stream",
     "text": [
      "4\n"
     ]
    }
   ],
   "source": [
    "print(y)"
   ]
  },
  {
   "cell_type": "markdown",
   "id": "40784d7f",
   "metadata": {},
   "source": [
    "### Return statements\n",
    "\n",
    "A **return statement immediately terminates the function call**, causing program flow to revert to the\n",
    "place where function was called.\n",
    "\n",
    "Return statements can have arguments which define the object that the function call will evaluate to. These arguments can be assigned to a variable like any other object. Return statements thus often serve to get information back from the inside of the function (without use of global variables).  \n",
    "\n",
    "Python also supports the use of multiple return values, separated by commas. The result of the function call needs to be assigned to the same number of variables, also separated by commas"
   ]
  },
  {
   "cell_type": "code",
   "execution_count": 10,
   "id": "ac657749",
   "metadata": {},
   "outputs": [
    {
     "name": "stdout",
     "output_type": "stream",
     "text": [
      "0.3\n"
     ]
    }
   ],
   "source": [
    "def string_percentage(word,length):\n",
    "    return(len(word)/length)\n",
    "\n",
    "x = string_percentage(\"return\",20)\n",
    "print(x)"
   ]
  },
  {
   "cell_type": "code",
   "execution_count": 11,
   "id": "e554c869",
   "metadata": {},
   "outputs": [
    {
     "name": "stdout",
     "output_type": "stream",
     "text": [
      "return (length:6, percentage: 0.3)\n"
     ]
    }
   ],
   "source": [
    "def get_word_statistics(word , length):\n",
    "    word_percentage = (len(word)/length)\n",
    "    return word , len(word), word_percentage\n",
    "\n",
    "w, wlen , wperc = get_word_statistics(\"return\" ,20)\n",
    "print(w + \" (length:\" + str(wlen) + \", percentage: \" + str(wperc) + \")\")"
   ]
  },
  {
   "cell_type": "markdown",
   "id": "632e3910",
   "metadata": {},
   "source": [
    "**What happens if nothing is returned?**  \n",
    "\n",
    "Python has a *None* value, which represents the absence of a value. None must be typed with a capital N.\n",
    "\n",
    "Internally, Python adds *return None* to the end of any function body with no return statement. If you assign the result of a function call without return value to a variable, that variable will also have the *None* value (see code block below)."
   ]
  },
  {
   "cell_type": "code",
   "execution_count": 12,
   "id": "59f70bd4",
   "metadata": {},
   "outputs": [
    {
     "name": "stdout",
     "output_type": "stream",
     "text": [
      "None\n"
     ]
    }
   ],
   "source": [
    "def string_percentage(word,length):\n",
    "    return #function execution ends here!\n",
    "    return(len(word)/length) #never reached\n",
    "\n",
    "x = string_percentage(\"return\",20)\n",
    "print(x)"
   ]
  },
  {
   "cell_type": "markdown",
   "id": "ce9120e7",
   "metadata": {},
   "source": [
    "## Conditional execution\n",
    "Conditional execution is an extremely important concept in any programming language. So far, most of our little programs were just lists of instructions that are executed in serial order. One of the strengths of programming, however, is that we can specify the conditions under which certain statements are to be executed, repeated, skipped, and so on.  \n",
    "\n",
    "Like most programming languages, Python offers a range of such **flow control statements**.\n",
    "\n",
    "\n",
    "### if\n",
    "The most basic flow control statement is the *if*-clause. It will execute the code block in its body *iff* (if and only if) the statement's condition is *True*. Its execution is skipped whenever the condition is *False*. We have seen an *if* statement before:"
   ]
  },
  {
   "cell_type": "code",
   "execution_count": 25,
   "id": "ddeb3d24",
   "metadata": {},
   "outputs": [
    {
     "name": "stdout",
     "output_type": "stream",
     "text": [
      "Forest walks\n"
     ]
    }
   ],
   "source": [
    "x = 'Forest runs'\n",
    "\n",
    "if 'runs' in x: #if variable x contains the string 'runs'\n",
    "    y = x.replace('runs','walks',1) #replace its first instance with the string 'walks'\n",
    "print(y) #then print the new variable"
   ]
  },
  {
   "cell_type": "markdown",
   "id": "1ba246fa",
   "metadata": {},
   "source": [
    "#### if...else\n",
    "*If* statements can be optionally followed by *else* statements, which are executed *iff* the statement's condition is *False*."
   ]
  },
  {
   "cell_type": "code",
   "execution_count": 26,
   "id": "3237c4b0",
   "metadata": {},
   "outputs": [
    {
     "name": "stdout",
     "output_type": "stream",
     "text": [
      "Natasha walks\n"
     ]
    }
   ],
   "source": [
    "if 'runs' in y: #if variable x contains the string 'runs'\n",
    "    z = y.replace('runs','walks',1) #replace its first instance with the string 'walks'\n",
    "else:\n",
    "    z = y.replace('Forest','Natasha')\n",
    "print(z) #then print the new variable"
   ]
  },
  {
   "cell_type": "markdown",
   "id": "33563e59",
   "metadata": {},
   "source": [
    "#### elif\n",
    "*If...else* statements will only execute one of two possible clauses. In cases with (many) more possible options, however, we can use the *elif* (\"else if\") statement instead. This statement has to follow another *if* or *elif* statement and provides a condition that is checked *iff* the conditions of the previous statements were *False*.  \n",
    "\n",
    "*If* + *elif* statements can be (almost) arbitrarily long. Note, though, that if multiple *elif* statements are provided, only the first one that evaluates to *True* will be executed.  \n",
    "\n",
    "Thus, given that z = *Natasha walks*, what will be the output of the following statement?"
   ]
  },
  {
   "cell_type": "code",
   "execution_count": 27,
   "id": "2b932db6",
   "metadata": {},
   "outputs": [
    {
     "name": "stdout",
     "output_type": "stream",
     "text": [
      "Natasha runs\n"
     ]
    }
   ],
   "source": [
    "if 'runs' in z: #if variable x contains the string 'runs'\n",
    "    z = z.replace('runs','walks',1) #replace its first instance with the string 'walks'\n",
    "elif 'walks' in z: #otherwise, if z contains 'walks'...\n",
    "    z = z.replace('walks','runs') #...and so on\n",
    "elif 'Forest' in z:\n",
    "    z = z.replace('Forest','Natasha')\n",
    "elif 'Natasha' in z:\n",
    "    z = z.replace('Natasha', 'Forest')\n",
    "else:\n",
    "    print(\"String does not contain any of these words.\")\n",
    "    \n",
    "print(z) #then print the variable"
   ]
  },
  {
   "cell_type": "markdown",
   "id": "0f4bcbfd",
   "metadata": {},
   "source": [
    "Finally, flow control statements can be nested:"
   ]
  },
  {
   "cell_type": "code",
   "execution_count": 29,
   "id": "4e439ff4",
   "metadata": {},
   "outputs": [
    {
     "name": "stdout",
     "output_type": "stream",
     "text": [
      "Forest walks\n"
     ]
    }
   ],
   "source": [
    "if 'runs' in z: #if variable z contains the string 'runs'\n",
    "    if 'Natasha' in z: #and contains the string 'Natasha'\n",
    "        z = z.replace('Natasha runs', 'Forest walks')\n",
    "    elif 'Forest' in z: \n",
    "        z = z.replace('Forest runs', 'Natasha walks')\n",
    "else:\n",
    "    print(\"String does not contain 'runs'.\")\n",
    "    \n",
    "print(z) #then print the variable"
   ]
  },
  {
   "cell_type": "markdown",
   "id": "c58b073f",
   "metadata": {},
   "source": [
    "### for\n",
    "### while\n",
    "\n",
    "\n",
    "\n",
    "\n",
    "## Modules\n",
    "- importing modules\n",
    "- ...."
   ]
  }
 ],
 "metadata": {
  "kernelspec": {
   "display_name": "Python 3 (ipykernel)",
   "language": "python",
   "name": "python3"
  },
  "language_info": {
   "codemirror_mode": {
    "name": "ipython",
    "version": 3
   },
   "file_extension": ".py",
   "mimetype": "text/x-python",
   "name": "python",
   "nbconvert_exporter": "python",
   "pygments_lexer": "ipython3",
   "version": "3.9.12"
  }
 },
 "nbformat": 4,
 "nbformat_minor": 5
}