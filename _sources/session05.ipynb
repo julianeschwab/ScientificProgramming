{
 "cells": [
  {
   "cell_type": "markdown",
   "id": "5646c2f4",
   "metadata": {},
   "source": [
    "## Modules, file I/O (input/output)\n",
    "\n",
    "**So far, all of our Python programs were self-contained**, that is, they did not rely on external data files or pieces of code (except for in-built Python functions and methods). In most real-life situations, however, you will work off of existing files (e.g., for data analysis) or from pre-existing code (e.g., when adding new functionalities to an app or program). In this session, you will learn how to **import and use** external Python code as **modules** and how to **create, read from, and write to files**.\n",
    "\n",
    "### Modules\n",
    "\n",
    "**Modules are python files intended for use in other Python programs**. Any *.py* file can be loaded as a module. As such, modules allow us **(a)** to **distribute code across multiple files** (which is convenient for bigger coding projects), and **(b)** to make use of **collections of useful functions** provided by other programmers. Many modules come with Python as part of the default installation. One such example is the *Itertools* module we saw in the previous session. Others include the *math* module and the *random* module, which contain helpful functions for mathematical operations and for probabilistic data.\n",
    "\n",
    "Modules are **loaded with an *import* statement** (more below). Upon importing them, **all statements in the imported module are executed**.  \n",
    "\n",
    "In the following, we will focus on the *math* module:\n",
    "\n",
    "#### Import modules\n",
    "\n",
    "Modules can be imported in three ways:\n",
    "\n",
    "- *import math*: makes all objects available as math.object\n",
    "- *from math import func*: makes math.func available as func\n",
    "- *from example import long_function_name as func*: makes math.function_name_in_module available as func_name_in_my_code"
   ]
  },
  {
   "cell_type": "code",
   "execution_count": 8,
   "id": "96b954a8",
   "metadata": {},
   "outputs": [
    {
     "name": "stdout",
     "output_type": "stream",
     "text": [
      "24\n"
     ]
    }
   ],
   "source": [
    "from math import factorial as fc #imports the function factorial(x) from the math module, assigns it the name fc\n",
    "\n",
    "print(fc(4)) #prints 4!"
   ]
  },
  {
   "cell_type": "markdown",
   "id": "8e5cd1c7",
   "metadata": {},
   "source": [
    "The names and functionalities of available modules can be looked up in Python's documentation: https://docs.python.org/3/py-modindex.html"
   ]
  },
  {
   "cell_type": "markdown",
   "id": "f4c68b50",
   "metadata": {},
   "source": [
    "#### Example: Your homework as module\n",
    "\n",
    "Our testing skripts import your homework as module. Your code gets loaded by *import ex_01*, which causes your function definitions to be assigned to the function names, and the unit tests will be executed on your definitions.  \n",
    "\n",
    "The most basic element of our test code is the *assert* statement. Each such statement represents a basic fact which should hold if the program. For instance, *assertEquals(value, expression)* checks whether an expression correctly evaluates to a given value.   \n",
    "\n",
    "The code below also uses an object constructor (a *class*) and the *self* attribute. You'll learn more about those in later sessions."
   ]
  },
  {
   "cell_type": "markdown",
   "id": "08ed4501",
   "metadata": {},
   "source": [
    "    import unittest  \n",
    "    from ex_01 import *\n",
    "\n",
    "    class TestTask1(unittest.TestCase):\n",
    "\n",
    "        def test_br_to_am_1(self):\n",
    "            self.assertEqual(\"color\", br_to_am(\"colour\")) #checks whether the expression br_to_am(\"colour\") \n",
    "            self.assertEqual(\"honor\", br_to_am(\"honour\")) #evaluates to \"color\". If so, you get points!"
   ]
  },
  {
   "cell_type": "markdown",
   "id": "6c787dfd",
   "metadata": {},
   "source": [
    "### File I/O\n",
    "\n",
    "#### Reading and writing to text files\n",
    "\n",
    "#### File formats\n",
    "\n",
    "#### FIle encodings"
   ]
  }
 ],
 "metadata": {
  "kernelspec": {
   "display_name": "Python 3 (ipykernel)",
   "language": "python",
   "name": "python3"
  },
  "language_info": {
   "codemirror_mode": {
    "name": "ipython",
    "version": 3
   },
   "file_extension": ".py",
   "mimetype": "text/x-python",
   "name": "python",
   "nbconvert_exporter": "python",
   "pygments_lexer": "ipython3",
   "version": "3.9.12"
  }
 },
 "nbformat": 4,
 "nbformat_minor": 5
}
