{
 "cells": [
  {
   "cell_type": "markdown",
   "id": "c558d04d",
   "metadata": {},
   "source": [
    "## Advanced data types: lists, tuples, dictionaries, sets\n",
    "\n",
    "### Lists\n",
    "\n",
    "### <span style=\"color:red\">End of lecture 4 (November 22, 2022).</span>\n",
    "\n",
    "\n",
    "### Tuples\n",
    "\n",
    "### Dictionaries\n",
    "\n",
    "### Sets\n"
   ]
  }
 ],
 "metadata": {
  "kernelspec": {
   "display_name": "Python 3 (ipykernel)",
   "language": "python",
   "name": "python3"
  },
  "language_info": {
   "codemirror_mode": {
    "name": "ipython",
    "version": 3
   },
   "file_extension": ".py",
   "mimetype": "text/x-python",
   "name": "python",
   "nbconvert_exporter": "python",
   "pygments_lexer": "ipython3",
   "version": "3.9.12"
  }
 },
 "nbformat": 4,
 "nbformat_minor": 5
}
