{
 "cells": [
  {
   "cell_type": "markdown",
   "id": "ed163746",
   "metadata": {},
   "source": [
    "# Introduction\n",
    "\n",
    "In this course, you will learn the basics of programming. Our language of choice will be **Python**, a *high-level, dynamically-typed* programming language. You will learn what that means later on. No prior knowledge in programming is required. At the end of this course, you should have acquired the general-purpose knowledge relevant for *any* higher-level programming language, you should have learned how to write and interpret basic programs in Python, and you should be able to break down complex (data analysis) problems into algorithms aimed to solve the task at hand.  \n",
    "\n",
    "## Why programming?\n",
    "Some of you may be wondering why you should have to learn about *computer science* if you are studying *linguistics*. Answers to this question are manifold, but typically fall into two broad categories: \n",
    "\n",
    "1. It's a necessary, or at least highly useful, practical skill: programming is essential to study implementation + data analysis, corpus data processing + analysis, natural language processing (NLP), computational modeling of language   \n",
    "2. It trains your logical, mathematical thinking about structure and meaning in (natural and artificial) languages: programming languages have a strictly defined syntax and lexicon (while lacking pragmatics(?)), metaphorically allowing you to \"talk to\" the computer. Your computer is acting as naive, but highly logical machine, requiring you to do the same when writing code: syntax errors, leaps in logical thinking, and ambiguity in the program will be punshed by errors or otherwise faulty output.\n",
    "\n",
    "## Higher- and lower-level programming languages\n",
    "Computers (more precisely, CPUs) work off binary code (also called machine code), a string of 1's and 0's that form machine commands such as \"load\", \"store\". These are used to operate on units of data in the computer's register or memory.  \n",
    "\n",
    "Binary code is a **low-level programming language**. It works directly on the machine's hardware components. Since each CPU or family of CPUs has its own specific machine language, binary code is hardware-specific. This is because each processor (or family of processors) has its own set of instructions, telling it to perform simple tasks, encoded as series of bits. \n",
    "\n",
    "For example, some CPUs may only use 32-bit instructions, in which the first 6 bits represent the operation to be performed, while the second 26 bits represent the operand (= the data to perform the operation on). That means that each instruction will be a series of 32 1's and 0's.  \n",
    "\n",
    "**An example of a type of binary machine code**\n",
    "\n",
    "| op | target address|\n",
    "| ------ | ------ |\n",
    "| jump | (to) address 1024 |\n",
    "| 000020 | 00000 00000 00000 10000 000000 |\n",
    "\n",
    "Low-level programs are fast and memory-efficient, but writing programs directly in binary would be cumbersome. **High-level programming languages** are more user-friendly because they allow us to write instructions in a language that is easier (for us) to understand and because they are hardware-independent. Behind the surface, translators transform programs written in high-level languages into machine code that is readable for the computer. This is done by \"compilers\" or \"interpreters\".  \n",
    "\n",
    "For the rest of the course, we will be concerned with high-level programming languages only.\n",
    "\n",
    "\n",
    "## Algorithms\n",
    "### Definitions  \n",
    "In computer science, an algorithm refers to any finitely long instruction, consisting of a sequence of sub-commands. Algorithms are performed deterministically, not at random. Algorithms are usually employed to solve specific problems or perform tasks. In contrasts to heuristics, algorithms are fully specified task instructions.  \n",
    "\n",
    "Some commonplace situations can be thought of algorithmically:  \n",
    "\n",
    "**Baking recipes**: Take 200g of flour, add 1 tsp of baking powder, mix. Add 1 egg...\n",
    "\n",
    "**Navigation**: Go left in 200ms, then go straight ahead for 1km...  \n",
    "\n",
    "Algorithms start from an **input** state (e.g., the set of raw ingredients in the recipe example, or your start position in the navigation example) and perform a set of operations to produce desired **output** (e.g., a chocolate cake, arriving at your goal position).  \n",
    "\n",
    "### Types of instructions\n",
    "\n",
    "Some instructions operate directly on the element at hand:\n",
    "\n",
    "**Examples:** *divide x by 2*, *add 1 to y*\n",
    "\n",
    "Others are *conditional*:\n",
    "\n",
    "**Example:**  \n",
    "IF you are using dark chocolate,\n",
    "    THEN add 100g of sugar,\n",
    "    ELSE IF you are using milk chocolate,\n",
    "    THEN add 50g of sugar.\n",
    "WHILE your dough is chunky,\n",
    "    keep whisking.\n",
    "\n",
    "The above are examples of algorithms written in *pseudo-code*. These are not executable pieces of code, but a natural-language representation approximating the structure of a computer algorithm. \n",
    "\n",
    "Here is another example of an algorithm in pseudo-code. **Can you figure out what problem it solves?** (see the solution at the end of this page).\n",
    "\n",
    "DEFINE a function that takes a finite list of numbers L:\n",
    "    set x to 0;\n",
    "    set y to 0;\n",
    "    for each element i in L:\n",
    "        if that element is BIGGER THAN x:\n",
    "            x = i\n",
    "        if that element is SMALLER THAN y:\n",
    "            y = i\n",
    "return x and y\n",
    "\n",
    "\n",
    "## Python\n",
    "*Python* is a high-level programming language, just like *Java, Javascript, or C++*. It is also a *dynamically typed* programming language, meaning that some of its behaviours are evaluated at runtime, not during compilation (as for *statically typed* programming languages like *Java*). Statically typed programming languages require you to fully specify the relevant data types the code is operating on:  \n",
    "\n",
    "**Example of static typing systems**: \n",
    "int x = 2  \n",
    "int y = 1  \n",
    "\n",
    "int z = x + y\n",
    "  \n",
    "  \n",
    "By contrast, in dynamic typing systems the interpreter resolves the data type at run time. This can be advantageous because you have to expend less time on fixing all data types beforehand, particularly in cases where you might deal with a diverse set of data. On the other hand, it can be error-prone because type incompatibilites can sneak by until very late in development.\n",
    "\n",
    "**Example of dynamic typing systems (our first piece of Python code)**:"
   ]
  },
  {
   "cell_type": "code",
   "execution_count": 26,
   "id": "54c9ec6c",
   "metadata": {},
   "outputs": [
    {
     "data": {
      "text/plain": [
       "int"
      ]
     },
     "execution_count": 26,
     "metadata": {},
     "output_type": "execute_result"
    }
   ],
   "source": [
    "x = 2\n",
    "y = 1\n",
    "a = \"duck\"\n",
    "b = 0.1\n",
    "\n",
    "type(x)"
   ]
  },
  {
   "cell_type": "code",
   "execution_count": 27,
   "id": "a1b2542f",
   "metadata": {},
   "outputs": [
    {
     "data": {
      "text/plain": [
       "int"
      ]
     },
     "execution_count": 27,
     "metadata": {},
     "output_type": "execute_result"
    }
   ],
   "source": [
    "type(y)"
   ]
  },
  {
   "cell_type": "code",
   "execution_count": 28,
   "id": "fdf087cd",
   "metadata": {},
   "outputs": [
    {
     "data": {
      "text/plain": [
       "str"
      ]
     },
     "execution_count": 28,
     "metadata": {},
     "output_type": "execute_result"
    }
   ],
   "source": [
    "type(a)"
   ]
  },
  {
   "cell_type": "code",
   "execution_count": 29,
   "id": "b7c01c03",
   "metadata": {},
   "outputs": [
    {
     "data": {
      "text/plain": [
       "float"
      ]
     },
     "execution_count": 29,
     "metadata": {},
     "output_type": "execute_result"
    }
   ],
   "source": [
    "type(b)"
   ]
  },
  {
   "cell_type": "code",
   "execution_count": 30,
   "id": "5f70f751",
   "metadata": {},
   "outputs": [
    {
     "name": "stdout",
     "output_type": "stream",
     "text": [
      "3\n"
     ]
    }
   ],
   "source": [
    "z = x + y\n",
    "\n",
    "print(z)"
   ]
  },
  {
   "cell_type": "code",
   "execution_count": 31,
   "id": "bccaa23c",
   "metadata": {},
   "outputs": [
    {
     "data": {
      "text/plain": [
       "int"
      ]
     },
     "execution_count": 31,
     "metadata": {},
     "output_type": "execute_result"
    }
   ],
   "source": [
    "type(z)"
   ]
  },
  {
   "cell_type": "code",
   "execution_count": 32,
   "id": "b8f95389",
   "metadata": {},
   "outputs": [
    {
     "ename": "TypeError",
     "evalue": "unsupported operand type(s) for +: 'int' and 'str'",
     "output_type": "error",
     "traceback": [
      "\u001b[1;31m---------------------------------------------------------------------------\u001b[0m",
      "\u001b[1;31mTypeError\u001b[0m                                 Traceback (most recent call last)",
      "\u001b[1;32m~\\AppData\\Local\\Temp\\ipykernel_10304\\4050974931.py\u001b[0m in \u001b[0;36m<module>\u001b[1;34m\u001b[0m\n\u001b[1;32m----> 1\u001b[1;33m \u001b[0mb\u001b[0m \u001b[1;33m=\u001b[0m \u001b[0mx\u001b[0m \u001b[1;33m+\u001b[0m \u001b[0ma\u001b[0m\u001b[1;33m\u001b[0m\u001b[1;33m\u001b[0m\u001b[0m\n\u001b[0m",
      "\u001b[1;31mTypeError\u001b[0m: unsupported operand type(s) for +: 'int' and 'str'"
     ]
    }
   ],
   "source": [
    "b = x + a"
   ]
  },
  {
   "cell_type": "markdown",
   "id": "9d3246e5",
   "metadata": {},
   "source": [
    "As you see above, the data types are of *x* and *y* are interpreted as integers (=whole numbers), whereas *a* is interpreted as string variable (=series of letters). *b* is a float variable, that is, a number that contains a floating decimal point. We will learn more about different variable types in next week's session.  \n",
    "\n",
    "For now, note that this assignment (correctly) results in a type error when we try to add \"duck\" to the integer 2. After all \"duck\" is not a number.  \n",
    "\n",
    "But what happens if we want to add an integer and a float variable?"
   ]
  },
  {
   "cell_type": "code",
   "execution_count": 33,
   "id": "87366f8b",
   "metadata": {},
   "outputs": [
    {
     "name": "stdout",
     "output_type": "stream",
     "text": [
      "2.1\n"
     ]
    }
   ],
   "source": [
    "c = x + b\n",
    "\n",
    "print(c)"
   ]
  },
  {
   "cell_type": "code",
   "execution_count": 34,
   "id": "3c8583d8",
   "metadata": {},
   "outputs": [
    {
     "data": {
      "text/plain": [
       "float"
      ]
     },
     "execution_count": 34,
     "metadata": {},
     "output_type": "execute_result"
    }
   ],
   "source": [
    "type(c)"
   ]
  },
  {
   "cell_type": "markdown",
   "id": "496f5d90",
   "metadata": {},
   "source": [
    "The resulting variable *c* is of type float! In a statically typed language, we would have had to know beforehand whether we want *c* to be the sum of integers or float variables. In Python, we can let the interpreter work its magic for us.\n",
    "  \n",
    "\n",
    "\n",
    "(To resolve the question above: The pseudo-code algorithm found and returned the smallest and the biggest natural number in the list L.)"
   ]
  }
 ],
 "metadata": {
  "kernelspec": {
   "display_name": "Python 3 (ipykernel)",
   "language": "python",
   "name": "python3"
  },
  "language_info": {
   "codemirror_mode": {
    "name": "ipython",
    "version": 3
   },
   "file_extension": ".py",
   "mimetype": "text/x-python",
   "name": "python",
   "nbconvert_exporter": "python",
   "pygments_lexer": "ipython3",
   "version": "3.9.12"
  }
 },
 "nbformat": 4,
 "nbformat_minor": 5
}
