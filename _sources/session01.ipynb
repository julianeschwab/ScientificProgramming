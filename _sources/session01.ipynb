{
 "cells": [
  {
   "cell_type": "markdown",
   "id": "ed163746",
   "metadata": {},
   "source": [
    "# Introduction\n",
    "\n",
    "In this course, you will learn the basics of programming. Our language of choice will be **Python**, a *high-level dynamically-typed* programming language. You will learn what that means later on. No prior knowledge in programming is required. At the end of this course, you should have acquired the general-purpose knowledge relevant for learning how to program in *any* higher-level programming language, you should have learned how to write and interpret basic programs in Python, and you should be able to break down complex (data analysis) problems into a series of algorithms aimed to solve the task at hand.  \n",
    "\n",
    "## Why programming?\n",
    "\n",
    "## Higher- and lower-level programming languages\n",
    "\n",
    "## Algorithms\n",
    "\n",
    "## Python\n",
    "\n"
   ]
  },
  {
   "cell_type": "code",
   "execution_count": null,
   "id": "54c9ec6c",
   "metadata": {},
   "outputs": [],
   "source": []
  }
 ],
 "metadata": {
  "kernelspec": {
   "display_name": "Python 3 (ipykernel)",
   "language": "python",
   "name": "python3"
  },
  "language_info": {
   "codemirror_mode": {
    "name": "ipython",
    "version": 3
   },
   "file_extension": ".py",
   "mimetype": "text/x-python",
   "name": "python",
   "nbconvert_exporter": "python",
   "pygments_lexer": "ipython3",
   "version": "3.9.12"
  }
 },
 "nbformat": 4,
 "nbformat_minor": 5
}
