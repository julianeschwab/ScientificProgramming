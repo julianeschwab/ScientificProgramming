{
 "cells": [
  {
   "cell_type": "markdown",
   "id": "ed163746",
   "metadata": {},
   "source": [
    "# Introduction\n",
    "\n",
    "In this course, you will learn the basics of programming. Our language of choice will be **Python**, a *high-level, dynamically-typed* programming language. You will learn what that means later on. No prior knowledge in programming is required. At the end of this course, you should have acquired the general-purpose knowledge relevant for *any* higher-level programming language, you should have learned how to write and interpret basic programs in Python, and you should be able to break down complex (data analysis) problems into a series of algorithms aimed to solve the task at hand.  \n",
    "\n",
    "## Why programming?\n",
    "Some of you may be wondering why you should have to learn about *computer science* if you are studying *linguistics*. Answers to this question are manifold, but typically fall into two broad categories: \n",
    "\n",
    "1. It's a necessary, or at least highly useful, practical skill: programming is essential to study implementation + data analysis, corpus data processing + analysis, natural language processing (NLP), computational modeling of language   \n",
    "2. It trains your logical, mathematical thinking about structure and meaning in (natural and artificial) languages: programming languages have a strictly defined syntax and lexicon (while lacking pragmatics(?)), metaphorically allowing you to \"talk to\" the computer. Your computer is acting as naive, but highly logical machine, requiring you to do the same when writing code: syntax errors, leaps in logical thinking, and ambiguity in the program will be punshed by errors or otherwise faulty output.\n",
    "\n",
    "## Higher- and lower-level programming languages\n",
    "Computers (more precisely, CPUs) work off binary code (also called machine code), a string of 1's and 0's that form machine commands such as \"load\", \"store\". These are used to operate on units of data in the computer's register or memory.  \n",
    "\n",
    "Binary code is a **low-level programming language**. It works directly on the machine's hardware components. Since each CPU or family of CPUs has its own specific machine language, binary code is hardware-specific. This is because each processor (or family of processors) has its own set of instructions, telling it to perform simple tasks, encoded as series of bits. \n",
    "\n",
    "For example, some CPUs may only use 32-bit instructions, in which the first 6 bits represent the operation to be performed, while the second 26 bits represent the operand (= the data to perform the operation on). That means that each instruction will be a series of 32 1's and 0's.  \n",
    "\n",
    "**An example of a type of binary machine code**\n",
    "\n",
    "| op | target address|\n",
    "| ------ | ------ |\n",
    "| jump | (to) address 1024 |\n",
    "| 000020 | 00000 00000 00000 10000 000000 |\n",
    "\n",
    "Low-level programs are fast and memory-efficient, but writing programs directly in binary would be cumbersome. **High-level programming languages** are more user-friendly because they allow us to write instructions in a language that is easier (for us) to understand and because they are hardware-independent. Behind the surface, translators transform programs written in high-level languages into machine code that is readable for the computer. This is done by \"compilers\" or \"interpreters\".  \n",
    "\n",
    "For the rest of the course, we will be concerned with high-level programming languages only.\n",
    "\n",
    "\n",
    "## Algorithms\n",
    "\n",
    "\n",
    "\n",
    "## Python\n",
    "\n"
   ]
  },
  {
   "cell_type": "code",
   "execution_count": 1,
   "id": "54c9ec6c",
   "metadata": {},
   "outputs": [
    {
     "name": "stdout",
     "output_type": "stream",
     "text": [
      "2\n"
     ]
    }
   ],
   "source": [
    "a = 1\n",
    "\n",
    "a += 1\n",
    "\n",
    "print(a)"
   ]
  },
  {
   "cell_type": "code",
   "execution_count": 2,
   "id": "bccaa23c",
   "metadata": {},
   "outputs": [
    {
     "data": {
      "text/plain": [
       "int"
      ]
     },
     "execution_count": 2,
     "metadata": {},
     "output_type": "execute_result"
    }
   ],
   "source": [
    "type(a)"
   ]
  },
  {
   "cell_type": "code",
   "execution_count": null,
   "id": "2f19c196",
   "metadata": {},
   "outputs": [],
   "source": []
  }
 ],
 "metadata": {
  "kernelspec": {
   "display_name": "Python 3 (ipykernel)",
   "language": "python",
   "name": "python3"
  },
  "language_info": {
   "codemirror_mode": {
    "name": "ipython",
    "version": 3
   },
   "file_extension": ".py",
   "mimetype": "text/x-python",
   "name": "python",
   "nbconvert_exporter": "python",
   "pygments_lexer": "ipython3",
   "version": "3.9.12"
  }
 },
 "nbformat": 4,
 "nbformat_minor": 5
}
